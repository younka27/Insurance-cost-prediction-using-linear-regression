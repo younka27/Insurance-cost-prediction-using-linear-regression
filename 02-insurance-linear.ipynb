{
 "cells": [
  {
   "cell_type": "markdown",
   "metadata": {
    "_cell_guid": "b1076dfc-b9ad-4769-8c92-a6c4dae69d19",
    "_uuid": "8f2839f25d086af736a60e9eeb907d3b93b6e0e5",
    "id": "jlTTo_0s8e1E"
   },
   "source": [
    "# Insurance cost prediction using linear regression\n",
    "\n",
    "Make a submisson here: https://jovian.ai/learn/deep-learning-with-pytorch-zero-to-gans/assignment/assignment-2-train-your-first-model\n",
    "\n",
    "In this assignment we're going to use information like a person's age, sex, BMI, no. of children and smoking habit to predict the price of yearly medical bills. This kind of model is useful for insurance companies to determine the yearly insurance premium for a person. The dataset for this problem is taken from [Kaggle](https://www.kaggle.com/mirichoi0218/insurance).\n",
    "\n",
    "\n",
    "We will create a model with the following steps:\n",
    "1. Download and explore the dataset\n",
    "2. Prepare the dataset for training\n",
    "3. Create a linear regression model\n",
    "4. Train the model to fit the data\n",
    "5. Make predictions using the trained model\n",
    "\n",
    "\n",
    "This assignment builds upon the concepts from the first 2 lessons. It will help to review these Jupyter notebooks:\n",
    "- PyTorch basics: https://jovian.ai/aakashns/01-pytorch-basics\n",
    "- Linear Regression: https://jovian.ai/aakashns/02-linear-regression\n",
    "- Logistic Regression: https://jovian.ai/aakashns/03-logistic-regression\n",
    "- Linear regression (minimal): https://jovian.ai/aakashns/housing-linear-minimal\n",
    "- Logistic regression (minimal): https://jovian.ai/aakashns/mnist-logistic-minimal\n",
    "\n",
    "As you go through this notebook, you will find a **???** in certain places. Your job is to replace the **???** with appropriate code or values, to ensure that the notebook runs properly end-to-end . In some cases, you'll be required to choose some hyperparameters (learning rate, batch size etc.). Try to experiment with the hypeparameters to get the lowest loss.\n"
   ]
  },
  {
   "cell_type": "code",
   "execution_count": 1,
   "metadata": {
    "executionInfo": {
     "elapsed": 1216,
     "status": "ok",
     "timestamp": 1619369537884,
     "user": {
      "displayName": "keddar idir younes",
      "photoUrl": "",
      "userId": "18267551033182803145"
     },
     "user_tz": -120
    },
    "id": "pcwrovX88e1G"
   },
   "outputs": [],
   "source": [
    "# Uncomment and run the appropriate command for your operating system, if required\n",
    "\n",
    "# Linux / Binder\n",
    "# !pip install numpy matplotlib pandas torch==1.7.0+cpu torchvision==0.8.1+cpu torchaudio==0.7.0 -f https://download.pytorch.org/whl/torch_stable.html\n",
    "\n",
    "# Windows\n",
    "# !pip install numpy matplotlib pandas torch==1.7.0+cpu torchvision==0.8.1+cpu torchaudio==0.7.0 -f https://download.pytorch.org/whl/torch_stable.html\n",
    "\n",
    "# MacOS\n",
    "# !pip install numpy matplotlib pandas torch torchvision torchaudio"
   ]
  },
  {
   "cell_type": "code",
   "execution_count": 4,
   "metadata": {
    "executionInfo": {
     "elapsed": 1619,
     "status": "ok",
     "timestamp": 1619369588578,
     "user": {
      "displayName": "keddar idir younes",
      "photoUrl": "",
      "userId": "18267551033182803145"
     },
     "user_tz": -120
    },
    "id": "CmvKNYvc8e1H"
   },
   "outputs": [],
   "source": [
    "import torch\n",
    "import jovian\n",
    "import torchvision\n",
    "import torch.nn as nn\n",
    "import pandas as pd\n",
    "import matplotlib.pyplot as plt\n",
    "import torch.nn.functional as F\n",
    "from torchvision.datasets.utils import download_url\n",
    "from torch.utils.data import DataLoader, TensorDataset, random_split"
   ]
  },
  {
   "cell_type": "code",
   "execution_count": 5,
   "metadata": {
    "executionInfo": {
     "elapsed": 433,
     "status": "ok",
     "timestamp": 1619369595740,
     "user": {
      "displayName": "keddar idir younes",
      "photoUrl": "",
      "userId": "18267551033182803145"
     },
     "user_tz": -120
    },
    "id": "HDxBsaNj8e1K"
   },
   "outputs": [],
   "source": [
    "project_name='02-insurance-linear-regression' # will be used by jovian.commit"
   ]
  },
  {
   "cell_type": "markdown",
   "metadata": {
    "id": "o4DKPQBn8e1L"
   },
   "source": [
    "## Step 1: Download and explore the data\n",
    "\n",
    "Let us begin by downloading the data. We'll use the `download_url` function from PyTorch to get the data as a CSV (comma-separated values) file. "
   ]
  },
  {
   "cell_type": "code",
   "execution_count": 6,
   "metadata": {
    "_cell_guid": "79c7e3d0-c299-4dcb-8224-4455121ee9b0",
    "_uuid": "d629ff2d2480ee46fbb7e2d37f6b5fab8052498a",
    "colab": {
     "base_uri": "https://localhost:8080/",
     "height": 83,
     "referenced_widgets": [
      "16ddd300cd584b3281bcf56b9dd64d71",
      "e901e3ea147a490bb094ceab5397f7bd",
      "3e2dbff63b1f4aafad54ea81c6bb695b",
      "dbb762bc83c24c74b9384dd03e86c22b",
      "8ea4b5640c064c0bbbc8211b7ff1e297",
      "e57ce9f6cac7428c82584f23228da5b3",
      "e959170738db4d63be1f13553cf1070b",
      "4d140892fda04caa86d38fd724a90c98"
     ]
    },
    "executionInfo": {
     "elapsed": 3290,
     "status": "ok",
     "timestamp": 1619369606794,
     "user": {
      "displayName": "keddar idir younes",
      "photoUrl": "",
      "userId": "18267551033182803145"
     },
     "user_tz": -120
    },
    "id": "J_KI95hy8e1M",
    "outputId": "394c8a6d-9af6-4085-b21d-9bbe170dbcdc"
   },
   "outputs": [
    {
     "name": "stdout",
     "output_type": "stream",
     "text": [
      "Downloading https://hub.jovian.ml/wp-content/uploads/2020/05/insurance.csv to ./insurance.csv\n"
     ]
    },
    {
     "data": {
      "application/vnd.jupyter.widget-view+json": {
       "model_id": "16ddd300cd584b3281bcf56b9dd64d71",
       "version_major": 2,
       "version_minor": 0
      },
      "text/plain": [
       "HBox(children=(FloatProgress(value=0.0, max=55628.0), HTML(value='')))"
      ]
     },
     "metadata": {
      "tags": []
     },
     "output_type": "display_data"
    },
    {
     "name": "stdout",
     "output_type": "stream",
     "text": [
      "\n"
     ]
    }
   ],
   "source": [
    "DATASET_URL = \"https://hub.jovian.ml/wp-content/uploads/2020/05/insurance.csv\"\n",
    "DATA_FILENAME = \"insurance.csv\"\n",
    "download_url(DATASET_URL, '.')"
   ]
  },
  {
   "cell_type": "markdown",
   "metadata": {
    "id": "Eju777_e8e1k"
   },
   "source": [
    "To load the dataset into memory, we'll use the `read_csv` function from the `pandas` library. The data will be loaded as a Pandas dataframe. See this short tutorial to learn more: https://data36.com/pandas-tutorial-1-basics-reading-data-files-dataframes-data-selection/"
   ]
  },
  {
   "cell_type": "code",
   "execution_count": 9,
   "metadata": {
    "colab": {
     "base_uri": "https://localhost:8080/",
     "height": 204
    },
    "executionInfo": {
     "elapsed": 521,
     "status": "ok",
     "timestamp": 1619370442163,
     "user": {
      "displayName": "keddar idir younes",
      "photoUrl": "",
      "userId": "18267551033182803145"
     },
     "user_tz": -120
    },
    "id": "yAj3Drn98e1l",
    "outputId": "e0dca821-27ae-4b94-e718-b63e1907e189"
   },
   "outputs": [
    {
     "data": {
      "text/html": [
       "<div>\n",
       "<style scoped>\n",
       "    .dataframe tbody tr th:only-of-type {\n",
       "        vertical-align: middle;\n",
       "    }\n",
       "\n",
       "    .dataframe tbody tr th {\n",
       "        vertical-align: top;\n",
       "    }\n",
       "\n",
       "    .dataframe thead th {\n",
       "        text-align: right;\n",
       "    }\n",
       "</style>\n",
       "<table border=\"1\" class=\"dataframe\">\n",
       "  <thead>\n",
       "    <tr style=\"text-align: right;\">\n",
       "      <th></th>\n",
       "      <th>age</th>\n",
       "      <th>sex</th>\n",
       "      <th>bmi</th>\n",
       "      <th>children</th>\n",
       "      <th>smoker</th>\n",
       "      <th>region</th>\n",
       "      <th>charges</th>\n",
       "    </tr>\n",
       "  </thead>\n",
       "  <tbody>\n",
       "    <tr>\n",
       "      <th>0</th>\n",
       "      <td>19</td>\n",
       "      <td>female</td>\n",
       "      <td>27.900</td>\n",
       "      <td>0</td>\n",
       "      <td>yes</td>\n",
       "      <td>southwest</td>\n",
       "      <td>16884.92400</td>\n",
       "    </tr>\n",
       "    <tr>\n",
       "      <th>1</th>\n",
       "      <td>18</td>\n",
       "      <td>male</td>\n",
       "      <td>33.770</td>\n",
       "      <td>1</td>\n",
       "      <td>no</td>\n",
       "      <td>southeast</td>\n",
       "      <td>1725.55230</td>\n",
       "    </tr>\n",
       "    <tr>\n",
       "      <th>2</th>\n",
       "      <td>28</td>\n",
       "      <td>male</td>\n",
       "      <td>33.000</td>\n",
       "      <td>3</td>\n",
       "      <td>no</td>\n",
       "      <td>southeast</td>\n",
       "      <td>4449.46200</td>\n",
       "    </tr>\n",
       "    <tr>\n",
       "      <th>3</th>\n",
       "      <td>33</td>\n",
       "      <td>male</td>\n",
       "      <td>22.705</td>\n",
       "      <td>0</td>\n",
       "      <td>no</td>\n",
       "      <td>northwest</td>\n",
       "      <td>21984.47061</td>\n",
       "    </tr>\n",
       "    <tr>\n",
       "      <th>4</th>\n",
       "      <td>32</td>\n",
       "      <td>male</td>\n",
       "      <td>28.880</td>\n",
       "      <td>0</td>\n",
       "      <td>no</td>\n",
       "      <td>northwest</td>\n",
       "      <td>3866.85520</td>\n",
       "    </tr>\n",
       "  </tbody>\n",
       "</table>\n",
       "</div>"
      ],
      "text/plain": [
       "   age     sex     bmi  children smoker     region      charges\n",
       "0   19  female  27.900         0    yes  southwest  16884.92400\n",
       "1   18    male  33.770         1     no  southeast   1725.55230\n",
       "2   28    male  33.000         3     no  southeast   4449.46200\n",
       "3   33    male  22.705         0     no  northwest  21984.47061\n",
       "4   32    male  28.880         0     no  northwest   3866.85520"
      ]
     },
     "execution_count": 9,
     "metadata": {
      "tags": []
     },
     "output_type": "execute_result"
    }
   ],
   "source": [
    "dataframe_raw = pd.read_csv(DATA_FILENAME)\n",
    "dataframe_raw.head()"
   ]
  },
  {
   "cell_type": "markdown",
   "metadata": {
    "id": "E7oRFbOm8e1m"
   },
   "source": [
    "We're going to do a slight customization of the data, so that you every participant receives a slightly different version of the dataset. Fill in your name below as a string (enter at least 5 characters)"
   ]
  },
  {
   "cell_type": "code",
   "execution_count": 10,
   "metadata": {
    "executionInfo": {
     "elapsed": 1049,
     "status": "ok",
     "timestamp": 1619370537877,
     "user": {
      "displayName": "keddar idir younes",
      "photoUrl": "",
      "userId": "18267551033182803145"
     },
     "user_tz": -120
    },
    "id": "HqztxjN78e1m"
   },
   "outputs": [],
   "source": [
    "your_name = \"IDIRYOUNES\" # at least 5 characters"
   ]
  },
  {
   "cell_type": "markdown",
   "metadata": {
    "id": "cy3ZFaD-8e1n"
   },
   "source": [
    "The `customize_dataset` function will customize the dataset slightly using your name as a source of random numbers."
   ]
  },
  {
   "cell_type": "code",
   "execution_count": 12,
   "metadata": {
    "executionInfo": {
     "elapsed": 456,
     "status": "ok",
     "timestamp": 1619370587385,
     "user": {
      "displayName": "keddar idir younes",
      "photoUrl": "",
      "userId": "18267551033182803145"
     },
     "user_tz": -120
    },
    "id": "6WaPc3-P8e1o"
   },
   "outputs": [],
   "source": [
    "def customize_dataset(dataframe_raw, rand_str):\n",
    "    dataframe = dataframe_raw.copy(deep=True)\n",
    "    # drop some rows\n",
    "    dataframe = dataframe.sample(int(0.95*len(dataframe)), random_state=int(ord(rand_str[0])))\n",
    "    # scale input\n",
    "    dataframe.bmi = dataframe.bmi * ord(rand_str[1])/100.\n",
    "    # scale target\n",
    "    dataframe.charges = dataframe.charges * ord(rand_str[2])/100.\n",
    "    # drop column\n",
    "    if ord(rand_str[3]) % 2 == 1:\n",
    "        dataframe = dataframe.drop(['region'], axis=1)\n",
    "    return dataframe"
   ]
  },
  {
   "cell_type": "code",
   "execution_count": 13,
   "metadata": {
    "colab": {
     "base_uri": "https://localhost:8080/",
     "height": 204
    },
    "executionInfo": {
     "elapsed": 499,
     "status": "ok",
     "timestamp": 1619370595233,
     "user": {
      "displayName": "keddar idir younes",
      "photoUrl": "",
      "userId": "18267551033182803145"
     },
     "user_tz": -120
    },
    "id": "zssILAsW8e1y",
    "outputId": "626ab265-86f1-46ff-c7b8-326ae6a40e44"
   },
   "outputs": [
    {
     "data": {
      "text/html": [
       "<div>\n",
       "<style scoped>\n",
       "    .dataframe tbody tr th:only-of-type {\n",
       "        vertical-align: middle;\n",
       "    }\n",
       "\n",
       "    .dataframe tbody tr th {\n",
       "        vertical-align: top;\n",
       "    }\n",
       "\n",
       "    .dataframe thead th {\n",
       "        text-align: right;\n",
       "    }\n",
       "</style>\n",
       "<table border=\"1\" class=\"dataframe\">\n",
       "  <thead>\n",
       "    <tr style=\"text-align: right;\">\n",
       "      <th></th>\n",
       "      <th>age</th>\n",
       "      <th>sex</th>\n",
       "      <th>bmi</th>\n",
       "      <th>children</th>\n",
       "      <th>smoker</th>\n",
       "      <th>region</th>\n",
       "      <th>charges</th>\n",
       "    </tr>\n",
       "  </thead>\n",
       "  <tbody>\n",
       "    <tr>\n",
       "      <th>803</th>\n",
       "      <td>18</td>\n",
       "      <td>female</td>\n",
       "      <td>28.7232</td>\n",
       "      <td>0</td>\n",
       "      <td>yes</td>\n",
       "      <td>southeast</td>\n",
       "      <td>28318.660488</td>\n",
       "    </tr>\n",
       "    <tr>\n",
       "      <th>263</th>\n",
       "      <td>19</td>\n",
       "      <td>male</td>\n",
       "      <td>25.1294</td>\n",
       "      <td>0</td>\n",
       "      <td>yes</td>\n",
       "      <td>northwest</td>\n",
       "      <td>26440.165979</td>\n",
       "    </tr>\n",
       "    <tr>\n",
       "      <th>196</th>\n",
       "      <td>39</td>\n",
       "      <td>female</td>\n",
       "      <td>22.3040</td>\n",
       "      <td>0</td>\n",
       "      <td>no</td>\n",
       "      <td>southwest</td>\n",
       "      <td>4124.291950</td>\n",
       "    </tr>\n",
       "    <tr>\n",
       "      <th>694</th>\n",
       "      <td>27</td>\n",
       "      <td>female</td>\n",
       "      <td>23.6640</td>\n",
       "      <td>1</td>\n",
       "      <td>no</td>\n",
       "      <td>southwest</td>\n",
       "      <td>2611.939270</td>\n",
       "    </tr>\n",
       "    <tr>\n",
       "      <th>37</th>\n",
       "      <td>26</td>\n",
       "      <td>male</td>\n",
       "      <td>14.1440</td>\n",
       "      <td>0</td>\n",
       "      <td>no</td>\n",
       "      <td>southwest</td>\n",
       "      <td>1680.679000</td>\n",
       "    </tr>\n",
       "  </tbody>\n",
       "</table>\n",
       "</div>"
      ],
      "text/plain": [
       "     age     sex      bmi  children smoker     region       charges\n",
       "803   18  female  28.7232         0    yes  southeast  28318.660488\n",
       "263   19    male  25.1294         0    yes  northwest  26440.165979\n",
       "196   39  female  22.3040         0     no  southwest   4124.291950\n",
       "694   27  female  23.6640         1     no  southwest   2611.939270\n",
       "37    26    male  14.1440         0     no  southwest   1680.679000"
      ]
     },
     "execution_count": 13,
     "metadata": {
      "tags": []
     },
     "output_type": "execute_result"
    }
   ],
   "source": [
    "dataframe = customize_dataset(dataframe_raw, your_name)\n",
    "dataframe.head()"
   ]
  },
  {
   "cell_type": "markdown",
   "metadata": {
    "id": "ZSNYxT_F8e1z"
   },
   "source": [
    "Let us answer some basic questions about the dataset. \n",
    "\n",
    "\n",
    "**Q: How many rows does the dataset have?**"
   ]
  },
  {
   "cell_type": "code",
   "execution_count": 14,
   "metadata": {
    "colab": {
     "base_uri": "https://localhost:8080/"
    },
    "executionInfo": {
     "elapsed": 792,
     "status": "ok",
     "timestamp": 1619370651758,
     "user": {
      "displayName": "keddar idir younes",
      "photoUrl": "",
      "userId": "18267551033182803145"
     },
     "user_tz": -120
    },
    "id": "rlB3bOaCAx-o",
    "outputId": "e20ebde1-6d49-43eb-88b9-676b48686c84"
   },
   "outputs": [
    {
     "name": "stdout",
     "output_type": "stream",
     "text": [
      "<class 'pandas.core.frame.DataFrame'>\n",
      "Int64Index: 1271 entries, 803 to 705\n",
      "Data columns (total 7 columns):\n",
      " #   Column    Non-Null Count  Dtype  \n",
      "---  ------    --------------  -----  \n",
      " 0   age       1271 non-null   int64  \n",
      " 1   sex       1271 non-null   object \n",
      " 2   bmi       1271 non-null   float64\n",
      " 3   children  1271 non-null   int64  \n",
      " 4   smoker    1271 non-null   object \n",
      " 5   region    1271 non-null   object \n",
      " 6   charges   1271 non-null   float64\n",
      "dtypes: float64(2), int64(2), object(3)\n",
      "memory usage: 79.4+ KB\n"
     ]
    }
   ],
   "source": [
    "dataframe.info()"
   ]
  },
  {
   "cell_type": "code",
   "execution_count": 17,
   "metadata": {
    "colab": {
     "base_uri": "https://localhost:8080/"
    },
    "executionInfo": {
     "elapsed": 425,
     "status": "ok",
     "timestamp": 1619370820442,
     "user": {
      "displayName": "keddar idir younes",
      "photoUrl": "",
      "userId": "18267551033182803145"
     },
     "user_tz": -120
    },
    "id": "OWafEK7p8e1z",
    "outputId": "3df4eeae-f5ab-41b7-d735-93bd4321507c"
   },
   "outputs": [
    {
     "name": "stdout",
     "output_type": "stream",
     "text": [
      "1271\n"
     ]
    }
   ],
   "source": [
    "num_rows = len(dataframe)\n",
    "print(num_rows)"
   ]
  },
  {
   "cell_type": "markdown",
   "metadata": {
    "id": "0T87ndlY8e10"
   },
   "source": [
    "**Q: How many columns doe the dataset have**"
   ]
  },
  {
   "cell_type": "code",
   "execution_count": 18,
   "metadata": {
    "colab": {
     "base_uri": "https://localhost:8080/"
    },
    "executionInfo": {
     "elapsed": 496,
     "status": "ok",
     "timestamp": 1619370847895,
     "user": {
      "displayName": "keddar idir younes",
      "photoUrl": "",
      "userId": "18267551033182803145"
     },
     "user_tz": -120
    },
    "id": "7y7RuR2l8e10",
    "outputId": "e8b32d86-9908-425b-d7b0-eff56cb50055"
   },
   "outputs": [
    {
     "name": "stdout",
     "output_type": "stream",
     "text": [
      "7\n"
     ]
    }
   ],
   "source": [
    "num_cols = len(dataframe.columns)\n",
    "print(num_cols)"
   ]
  },
  {
   "cell_type": "markdown",
   "metadata": {
    "id": "wsn_lyYl8e11"
   },
   "source": [
    "**Q: What are the column titles of the input variables?**"
   ]
  },
  {
   "cell_type": "code",
   "execution_count": 24,
   "metadata": {
    "colab": {
     "base_uri": "https://localhost:8080/"
    },
    "executionInfo": {
     "elapsed": 471,
     "status": "ok",
     "timestamp": 1619370962678,
     "user": {
      "displayName": "keddar idir younes",
      "photoUrl": "",
      "userId": "18267551033182803145"
     },
     "user_tz": -120
    },
    "id": "NH9t8LNv8e11",
    "outputId": "3abed939-ecdb-4cfd-ab9a-f2c389aac5df"
   },
   "outputs": [
    {
     "data": {
      "text/plain": [
       "['age', 'sex', 'bmi', 'children', 'smoker', 'region']"
      ]
     },
     "execution_count": 24,
     "metadata": {
      "tags": []
     },
     "output_type": "execute_result"
    }
   ],
   "source": [
    "input_cols = [x for x in dataframe.columns if x !='charges']\n",
    "input_cols"
   ]
  },
  {
   "cell_type": "markdown",
   "metadata": {
    "id": "Eeb8fcs58e12"
   },
   "source": [
    "**Q: Which of the input columns are non-numeric or categorial variables ?**\n",
    "\n",
    "Hint: `sex` is one of them. List the columns that are not numbers."
   ]
  },
  {
   "cell_type": "code",
   "execution_count": 25,
   "metadata": {
    "colab": {
     "base_uri": "https://localhost:8080/"
    },
    "executionInfo": {
     "elapsed": 474,
     "status": "ok",
     "timestamp": 1619371079394,
     "user": {
      "displayName": "keddar idir younes",
      "photoUrl": "",
      "userId": "18267551033182803145"
     },
     "user_tz": -120
    },
    "id": "d4oviCE08e12",
    "outputId": "be96f4da-c113-4958-dfcc-85706fbfa2a4"
   },
   "outputs": [
    {
     "data": {
      "text/plain": [
       "['sex', 'smoker', 'region']"
      ]
     },
     "execution_count": 25,
     "metadata": {
      "tags": []
     },
     "output_type": "execute_result"
    }
   ],
   "source": [
    "categorical_cols = [x for x in dataframe.columns if dataframe[x].dtype == object]\n",
    "categorical_cols"
   ]
  },
  {
   "cell_type": "markdown",
   "metadata": {
    "id": "nYYK6AAY8e13"
   },
   "source": [
    "**Q: What are the column titles of output/target variable(s)?**"
   ]
  },
  {
   "cell_type": "code",
   "execution_count": 26,
   "metadata": {
    "colab": {
     "base_uri": "https://localhost:8080/"
    },
    "executionInfo": {
     "elapsed": 460,
     "status": "ok",
     "timestamp": 1619371130439,
     "user": {
      "displayName": "keddar idir younes",
      "photoUrl": "",
      "userId": "18267551033182803145"
     },
     "user_tz": -120
    },
    "id": "cnZsFOqP8e13",
    "outputId": "d89ada72-a61d-4652-ae7e-b25a34eef10e"
   },
   "outputs": [
    {
     "data": {
      "text/plain": [
       "['charges']"
      ]
     },
     "execution_count": 26,
     "metadata": {
      "tags": []
     },
     "output_type": "execute_result"
    }
   ],
   "source": [
    "output_cols = [x for x in dataframe.columns if x == 'charges']\n",
    "output_cols"
   ]
  },
  {
   "cell_type": "markdown",
   "metadata": {
    "id": "-jiLgJ828e13"
   },
   "source": [
    "**Q: (Optional) What is the minimum, maximum and average value of the `charges` column? Can you show the distribution of values in a graph?**\n",
    "Use this data visualization cheatsheet for referece: https://jovian.ml/aakashns/dataviz-cheatsheet"
   ]
  },
  {
   "cell_type": "code",
   "execution_count": 27,
   "metadata": {
    "colab": {
     "base_uri": "https://localhost:8080/"
    },
    "executionInfo": {
     "elapsed": 553,
     "status": "ok",
     "timestamp": 1619371243040,
     "user": {
      "displayName": "keddar idir younes",
      "photoUrl": "",
      "userId": "18267551033182803145"
     },
     "user_tz": -120
    },
    "id": "Mz3_SKKp8e14",
    "outputId": "6aac208e-50e1-45c1-dd56-19da4964b6d4"
   },
   "outputs": [
    {
     "data": {
      "text/plain": [
       "count     1271.000000\n",
       "mean      9735.051383\n",
       "std       8903.133474\n",
       "min        818.967947\n",
       "25%       3445.330119\n",
       "50%       6792.432387\n",
       "75%      12383.816871\n",
       "max      46552.412447\n",
       "Name: charges, dtype: float64"
      ]
     },
     "execution_count": 27,
     "metadata": {
      "tags": []
     },
     "output_type": "execute_result"
    }
   ],
   "source": [
    "dataframe['charges'].describe()"
   ]
  },
  {
   "cell_type": "code",
   "execution_count": 28,
   "metadata": {
    "executionInfo": {
     "elapsed": 1889,
     "status": "ok",
     "timestamp": 1619371280722,
     "user": {
      "displayName": "keddar idir younes",
      "photoUrl": "",
      "userId": "18267551033182803145"
     },
     "user_tz": -120
    },
    "id": "cdq7w0SBDGz4"
   },
   "outputs": [],
   "source": [
    "import matplotlib\n",
    "import matplotlib.pyplot as plt\n",
    "import seaborn as sns"
   ]
  },
  {
   "cell_type": "code",
   "execution_count": 31,
   "metadata": {
    "executionInfo": {
     "elapsed": 672,
     "status": "ok",
     "timestamp": 1619371331651,
     "user": {
      "displayName": "keddar idir younes",
      "photoUrl": "",
      "userId": "18267551033182803145"
     },
     "user_tz": -120
    },
    "id": "Vpgg4ku-DM70"
   },
   "outputs": [],
   "source": [
    "sns.set_style(\"darkgrid\")\n",
    "matplotlib.rcParams['font.size'] = 14\n",
    "matplotlib.rcParams['figure.figsize'] = (9, 5)\n",
    "matplotlib.rcParams['figure.facecolor'] = '#00000000'"
   ]
  },
  {
   "cell_type": "code",
   "execution_count": 33,
   "metadata": {
    "colab": {
     "base_uri": "https://localhost:8080/",
     "height": 416
    },
    "executionInfo": {
     "elapsed": 1283,
     "status": "ok",
     "timestamp": 1619371407142,
     "user": {
      "displayName": "keddar idir younes",
      "photoUrl": "",
      "userId": "18267551033182803145"
     },
     "user_tz": -120
    },
    "id": "VM8ecyjTDcvL",
    "outputId": "088e8613-0518-44e3-f0f9-62125c06a177"
   },
   "outputs": [
    {
     "name": "stderr",
     "output_type": "stream",
     "text": [
      "/usr/local/lib/python3.7/dist-packages/seaborn/distributions.py:2557: FutureWarning: `distplot` is a deprecated function and will be removed in a future version. Please adapt your code to use either `displot` (a figure-level function with similar flexibility) or `histplot` (an axes-level function for histograms).\n",
      "  warnings.warn(msg, FutureWarning)\n"
     ]
    },
    {
     "data": {
      "image/png": "[encoded data removed]",
      "text/plain": [
       "<Figure size 648x360 with 1 Axes>"
      ]
     },
     "metadata": {
      "needs_background": "light",
      "tags": []
     },
     "output_type": "display_data"
    }
   ],
   "source": [
    "plt.title(\"Distribution of Charges\")\n",
    "sns.distplot(dataframe.charges);"
   ]
  },
  {
   "cell_type": "markdown",
   "metadata": {
    "id": "ojgJMZcp8e14"
   },
   "source": [
    "Remember to commit your notebook to Jovian after every step, so that you don't lose your work."
   ]
  },
  {
   "cell_type": "code",
   "execution_count": 34,
   "metadata": {
    "executionInfo": {
     "elapsed": 3698,
     "status": "ok",
     "timestamp": 1619371448815,
     "user": {
      "displayName": "keddar idir younes",
      "photoUrl": "",
      "userId": "18267551033182803145"
     },
     "user_tz": -120
    },
    "id": "Us4PiZUY8e17"
   },
   "outputs": [],
   "source": [
    "!pip install jovian --upgrade -q"
   ]
  },
  {
   "cell_type": "code",
   "execution_count": 36,
   "metadata": {
    "executionInfo": {
     "elapsed": 16729,
     "status": "ok",
     "timestamp": 1619371468516,
     "user": {
      "displayName": "keddar idir younes",
      "photoUrl": "",
      "userId": "18267551033182803145"
     },
     "user_tz": -120
    },
    "id": "KxZUb8ve8e18"
   },
   "outputs": [],
   "source": [
    "import jovian"
   ]
  },
  {
   "cell_type": "code",
   "execution_count": 35,
   "metadata": {
    "colab": {
     "base_uri": "https://localhost:8080/",
     "height": 137
    },
    "executionInfo": {
     "elapsed": 18412,
     "status": "ok",
     "timestamp": 1619371468514,
     "user": {
      "displayName": "keddar idir younes",
      "photoUrl": "",
      "userId": "18267551033182803145"
     },
     "user_tz": -120
    },
    "id": "WLSpiyM48e19",
    "outputId": "9d72d3bb-09fc-4b99-aa60-1b2668c2f782"
   },
   "outputs": [
    {
     "name": "stdout",
     "output_type": "stream",
     "text": [
      "[jovian] Detected Colab notebook...\u001b[0m\n",
      "[jovian] Please enter your API key ( from https://jovian.ai/ ):\u001b[0m\n",
      "API KEY: ··········\n",
      "[jovian] Uploading colab notebook to Jovian...\u001b[0m\n",
      "[jovian] Capturing environment..\u001b[0m\n",
      "[jovian] Committed successfully! https://jovian.ai/younka16-5u9/02-insurance-linear-regression\u001b[0m\n"
     ]
    },
    {
     "data": {
      "application/vnd.google.colaboratory.intrinsic+json": {
       "type": "string"
      },
      "text/plain": [
       "'https://jovian.ai/younka16-5u9/02-insurance-linear-regression'"
      ]
     },
     "execution_count": 35,
     "metadata": {
      "tags": []
     },
     "output_type": "execute_result"
    }
   ],
   "source": [
    "jovian.commit()"
   ]
  },
  {
   "cell_type": "markdown",
   "metadata": {
    "id": "2bxGzs4t8e19"
   },
   "source": [
    "## Step 2: Prepare the dataset for training\n",
    "\n",
    "We need to convert the data from the Pandas dataframe into a PyTorch tensors for training. To do this, the first step is to convert it numpy arrays. If you've filled out `input_cols`, `categorial_cols` and `output_cols` correctly, this following function will perform the conversion to numpy arrays."
   ]
  },
  {
   "cell_type": "code",
   "execution_count": 37,
   "metadata": {
    "executionInfo": {
     "elapsed": 478,
     "status": "ok",
     "timestamp": 1619371510630,
     "user": {
      "displayName": "keddar idir younes",
      "photoUrl": "",
      "userId": "18267551033182803145"
     },
     "user_tz": -120
    },
    "id": "r1TVvbfQ8e1-"
   },
   "outputs": [],
   "source": [
    "def dataframe_to_arrays(dataframe):\n",
    "    # Make a copy of the original dataframe\n",
    "    dataframe1 = dataframe.copy(deep=True)\n",
    "    # Convert non-numeric categorical columns to numbers\n",
    "    for col in categorical_cols:\n",
    "        dataframe1[col] = dataframe1[col].astype('category').cat.codes\n",
    "    # Extract input & outupts as numpy arrays\n",
    "    inputs_array = dataframe1[input_cols].to_numpy()\n",
    "    targets_array = dataframe1[output_cols].to_numpy()\n",
    "    return inputs_array, targets_array"
   ]
  },
  {
   "cell_type": "markdown",
   "metadata": {
    "id": "Mtpewwm78e1-"
   },
   "source": [
    "Read through the [Pandas documentation](https://pandas.pydata.org/pandas-docs/stable/user_guide/categorical.html) to understand how we're converting categorical variables into numbers."
   ]
  },
  {
   "cell_type": "code",
   "execution_count": 38,
   "metadata": {
    "colab": {
     "base_uri": "https://localhost:8080/"
    },
    "executionInfo": {
     "elapsed": 492,
     "status": "ok",
     "timestamp": 1619371519138,
     "user": {
      "displayName": "keddar idir younes",
      "photoUrl": "",
      "userId": "18267551033182803145"
     },
     "user_tz": -120
    },
    "id": "Edddo48j8e1-",
    "outputId": "f5c19aae-3844-4c5f-8a97-7bcb9607ad78"
   },
   "outputs": [
    {
     "data": {
      "text/plain": [
       "(array([[18.    ,  0.    , 28.7232,  0.    ,  1.    ,  2.    ],\n",
       "        [19.    ,  1.    , 25.1294,  0.    ,  1.    ,  1.    ],\n",
       "        [39.    ,  0.    , 22.304 ,  0.    ,  0.    ,  3.    ],\n",
       "        ...,\n",
       "        [46.    ,  1.    , 25.9556,  2.    ,  0.    ,  2.    ],\n",
       "        [48.    ,  1.    , 24.225 ,  4.    ,  0.    ,  0.    ],\n",
       "        [33.    ,  0.    , 22.372 ,  2.    ,  0.    ,  3.    ]]),\n",
       " array([[28318.660488 ],\n",
       "        [26440.1659785],\n",
       "        [ 4124.29195  ],\n",
       "        ...,\n",
       "        [ 6093.429939 ],\n",
       "        [ 7837.9156475],\n",
       "        [ 3923.77774  ]]))"
      ]
     },
     "execution_count": 38,
     "metadata": {
      "tags": []
     },
     "output_type": "execute_result"
    }
   ],
   "source": [
    "inputs_array, targets_array = dataframe_to_arrays(dataframe)\n",
    "inputs_array, targets_array"
   ]
  },
  {
   "cell_type": "markdown",
   "metadata": {
    "id": "QQYiSccY8e1_"
   },
   "source": [
    "**Q: Convert the numpy arrays `inputs_array` and `targets_array` into PyTorch tensors. Make sure that the data type is `torch.float32`.**"
   ]
  },
  {
   "cell_type": "code",
   "execution_count": 41,
   "metadata": {
    "executionInfo": {
     "elapsed": 731,
     "status": "ok",
     "timestamp": 1619371609378,
     "user": {
      "displayName": "keddar idir younes",
      "photoUrl": "",
      "userId": "18267551033182803145"
     },
     "user_tz": -120
    },
    "id": "AWiJSNwd8e1_"
   },
   "outputs": [],
   "source": [
    "inputs = torch.Tensor(inputs_array)\n",
    "targets = torch.Tensor(targets_array)"
   ]
  },
  {
   "cell_type": "code",
   "execution_count": 42,
   "metadata": {
    "colab": {
     "base_uri": "https://localhost:8080/"
    },
    "executionInfo": {
     "elapsed": 464,
     "status": "ok",
     "timestamp": 1619371613723,
     "user": {
      "displayName": "keddar idir younes",
      "photoUrl": "",
      "userId": "18267551033182803145"
     },
     "user_tz": -120
    },
    "id": "dPNpHd4h8e1_",
    "outputId": "c1746b3e-0771-4b7d-b2da-190bf1d8c85b"
   },
   "outputs": [
    {
     "data": {
      "text/plain": [
       "(torch.float32, torch.float32)"
      ]
     },
     "execution_count": 42,
     "metadata": {
      "tags": []
     },
     "output_type": "execute_result"
    }
   ],
   "source": [
    "inputs.dtype, targets.dtype"
   ]
  },
  {
   "cell_type": "markdown",
   "metadata": {
    "id": "3w86c4zk8e2A"
   },
   "source": [
    "Next, we need to create PyTorch datasets & data loaders for training & validation. We'll start by creating a `TensorDataset`."
   ]
  },
  {
   "cell_type": "code",
   "execution_count": 44,
   "metadata": {
    "executionInfo": {
     "elapsed": 521,
     "status": "ok",
     "timestamp": 1619371643823,
     "user": {
      "displayName": "keddar idir younes",
      "photoUrl": "",
      "userId": "18267551033182803145"
     },
     "user_tz": -120
    },
    "id": "BgwvQbtN8e2A"
   },
   "outputs": [],
   "source": [
    "dataset = TensorDataset(inputs, targets)"
   ]
  },
  {
   "cell_type": "markdown",
   "metadata": {
    "id": "bkUfnlQB8e2B"
   },
   "source": [
    "**Q: Pick a number between `0.1` and `0.2` to determine the fraction of data that will be used for creating the validation set. Then use `random_split` to create training & validation datasets.**"
   ]
  },
  {
   "cell_type": "code",
   "execution_count": 46,
   "metadata": {
    "executionInfo": {
     "elapsed": 317,
     "status": "ok",
     "timestamp": 1619371818993,
     "user": {
      "displayName": "keddar idir younes",
      "photoUrl": "",
      "userId": "18267551033182803145"
     },
     "user_tz": -120
    },
    "id": "Nb56ldX48e2B"
   },
   "outputs": [],
   "source": [
    "from torch.utils.data import random_split\n",
    "\n",
    "val_percent = 0.15 # between 0.1 and 0.2\n",
    "val_size = int(num_rows * val_percent)\n",
    "train_size = num_rows - val_size\n",
    "\n",
    "\n",
    "train_ds, val_ds = random_split(dataset, [train_size, val_size]) # Use the random_split function to split dataset into 2 parts of the desired length"
   ]
  },
  {
   "cell_type": "markdown",
   "metadata": {
    "id": "nLDhWV5s8e2B"
   },
   "source": [
    "Finally, we can create data loaders for training & validation.\n",
    "\n",
    "**Q: Pick a batch size for the data loader.**"
   ]
  },
  {
   "cell_type": "code",
   "execution_count": 49,
   "metadata": {
    "executionInfo": {
     "elapsed": 466,
     "status": "ok",
     "timestamp": 1619371840428,
     "user": {
      "displayName": "keddar idir younes",
      "photoUrl": "",
      "userId": "18267551033182803145"
     },
     "user_tz": -120
    },
    "id": "2r1cSdD88e2C"
   },
   "outputs": [],
   "source": [
    "batch_size = 128"
   ]
  },
  {
   "cell_type": "code",
   "execution_count": 50,
   "metadata": {
    "executionInfo": {
     "elapsed": 500,
     "status": "ok",
     "timestamp": 1619371847411,
     "user": {
      "displayName": "keddar idir younes",
      "photoUrl": "",
      "userId": "18267551033182803145"
     },
     "user_tz": -120
    },
    "id": "_XEcPVeA8e2C"
   },
   "outputs": [],
   "source": [
    "train_loader = DataLoader(train_ds, batch_size, shuffle=True)\n",
    "val_loader = DataLoader(val_ds, batch_size)"
   ]
  },
  {
   "cell_type": "markdown",
   "metadata": {
    "id": "KGzbJzZV8e2C"
   },
   "source": [
    "Let's look at a batch of data to verify everything is working fine so far."
   ]
  },
  {
   "cell_type": "code",
   "execution_count": 51,
   "metadata": {
    "colab": {
     "base_uri": "https://localhost:8080/"
    },
    "executionInfo": {
     "elapsed": 528,
     "status": "ok",
     "timestamp": 1619371864309,
     "user": {
      "displayName": "keddar idir younes",
      "photoUrl": "",
      "userId": "18267551033182803145"
     },
     "user_tz": -120
    },
    "id": "kZyZhV6e8e2D",
    "outputId": "2af400c9-50ca-4cf0-9ace-31f0f8201542"
   },
   "outputs": [
    {
     "name": "stdout",
     "output_type": "stream",
     "text": [
      "inputs: tensor([[26.0000,  0.0000, 28.8320,  1.0000,  0.0000,  3.0000],\n",
      "        [51.0000,  1.0000, 26.9960,  1.0000,  0.0000,  3.0000],\n",
      "        [29.0000,  1.0000, 21.8348,  2.0000,  0.0000,  1.0000],\n",
      "        [40.0000,  0.0000, 15.1096,  2.0000,  1.0000,  2.0000],\n",
      "        [37.0000,  0.0000, 26.1052,  0.0000,  1.0000,  2.0000],\n",
      "        [36.0000,  0.0000, 19.7472,  4.0000,  0.0000,  2.0000],\n",
      "        [18.0000,  1.0000, 17.3128,  0.0000,  0.0000,  0.0000],\n",
      "        [26.0000,  0.0000, 19.9614,  2.0000,  0.0000,  0.0000],\n",
      "        [37.0000,  0.0000, 17.9520,  0.0000,  1.0000,  2.0000],\n",
      "        [59.0000,  0.0000, 25.0002,  1.0000,  1.0000,  0.0000],\n",
      "        [52.0000,  0.0000, 30.3960,  3.0000,  0.0000,  3.0000],\n",
      "        [42.0000,  1.0000, 23.1880,  0.0000,  0.0000,  3.0000],\n",
      "        [39.0000,  0.0000, 21.7056,  2.0000,  0.0000,  1.0000],\n",
      "        [18.0000,  0.0000, 27.3904,  0.0000,  0.0000,  0.0000],\n",
      "        [19.0000,  1.0000, 13.4640,  0.0000,  0.0000,  3.0000],\n",
      "        [57.0000,  0.0000, 15.7624,  0.0000,  0.0000,  1.0000],\n",
      "        [55.0000,  1.0000, 19.7030,  0.0000,  0.0000,  0.0000],\n",
      "        [29.0000,  0.0000, 20.1212,  1.0000,  0.0000,  2.0000],\n",
      "        [50.0000,  0.0000, 16.0072,  2.0000,  0.0000,  2.0000],\n",
      "        [48.0000,  0.0000, 18.6048,  1.0000,  0.0000,  0.0000],\n",
      "        [38.0000,  1.0000, 13.1240,  0.0000,  1.0000,  3.0000],\n",
      "        [29.0000,  1.0000, 24.1400,  2.0000,  1.0000,  3.0000],\n",
      "        [42.0000,  0.0000, 24.6126,  1.0000,  0.0000,  1.0000],\n",
      "        [38.0000,  1.0000, 19.8968,  2.0000,  0.0000,  1.0000],\n",
      "        [53.0000,  0.0000, 25.8808,  3.0000,  0.0000,  2.0000],\n",
      "        [25.0000,  0.0000, 14.1440,  1.0000,  0.0000,  3.0000],\n",
      "        [35.0000,  0.0000, 18.8360,  3.0000,  0.0000,  3.0000],\n",
      "        [62.0000,  1.0000, 20.9950,  3.0000,  1.0000,  1.0000],\n",
      "        [57.0000,  0.0000, 25.8400,  2.0000,  0.0000,  3.0000],\n",
      "        [58.0000,  1.0000, 20.6074,  0.0000,  0.0000,  0.0000],\n",
      "        [22.0000,  0.0000, 23.5144,  2.0000,  0.0000,  0.0000],\n",
      "        [54.0000,  0.0000, 16.7314,  3.0000,  0.0000,  1.0000],\n",
      "        [20.0000,  0.0000, 20.1280,  0.0000,  0.0000,  3.0000],\n",
      "        [55.0000,  0.0000, 20.1960,  2.0000,  0.0000,  3.0000],\n",
      "        [42.0000,  0.0000, 25.7720,  0.0000,  0.0000,  3.0000],\n",
      "        [56.0000,  0.0000, 22.9976,  2.0000,  0.0000,  1.0000],\n",
      "        [52.0000,  1.0000, 32.4632,  1.0000,  0.0000,  2.0000],\n",
      "        [36.0000,  1.0000, 23.9360,  1.0000,  1.0000,  2.0000],\n",
      "        [30.0000,  1.0000, 16.4084,  1.0000,  0.0000,  1.0000],\n",
      "        [61.0000,  0.0000, 26.5880,  2.0000,  0.0000,  3.0000],\n",
      "        [64.0000,  0.0000, 26.7444,  0.0000,  0.0000,  0.0000],\n",
      "        [18.0000,  1.0000, 19.2508,  1.0000,  0.0000,  0.0000],\n",
      "        [43.0000,  0.0000, 17.0544,  0.0000,  0.0000,  0.0000],\n",
      "        [34.0000,  0.0000, 20.5428,  1.0000,  1.0000,  1.0000],\n",
      "        [41.0000,  1.0000, 25.1940,  2.0000,  0.0000,  1.0000],\n",
      "        [29.0000,  0.0000, 17.4080,  4.0000,  0.0000,  3.0000],\n",
      "        [39.0000,  1.0000, 14.8580,  1.0000,  0.0000,  1.0000],\n",
      "        [50.0000,  1.0000, 21.0596,  3.0000,  0.0000,  1.0000],\n",
      "        [33.0000,  0.0000, 18.1526,  0.0000,  0.0000,  1.0000],\n",
      "        [52.0000,  1.0000, 25.0002,  2.0000,  0.0000,  1.0000],\n",
      "        [61.0000,  1.0000, 24.5480,  3.0000,  0.0000,  3.0000],\n",
      "        [20.0000,  1.0000, 27.5196,  0.0000,  0.0000,  0.0000],\n",
      "        [43.0000,  0.0000, 18.2818,  0.0000,  1.0000,  1.0000],\n",
      "        [61.0000,  0.0000, 17.0544,  0.0000,  0.0000,  2.0000],\n",
      "        [24.0000,  1.0000, 19.9240,  0.0000,  0.0000,  3.0000],\n",
      "        [50.0000,  0.0000, 30.4266,  0.0000,  0.0000,  0.0000],\n",
      "        [31.0000,  1.0000, 17.6120,  3.0000,  1.0000,  3.0000],\n",
      "        [28.0000,  1.0000, 20.9950,  0.0000,  0.0000,  1.0000],\n",
      "        [19.0000,  1.0000, 14.0760,  0.0000,  0.0000,  3.0000],\n",
      "        [22.0000,  0.0000, 18.4280,  0.0000,  0.0000,  3.0000],\n",
      "        [21.0000,  0.0000, 22.2224,  2.0000,  0.0000,  1.0000],\n",
      "        [51.0000,  0.0000, 14.0080,  0.0000,  0.0000,  3.0000],\n",
      "        [18.0000,  1.0000, 23.4124,  0.0000,  0.0000,  2.0000],\n",
      "        [37.0000,  1.0000, 31.6404,  3.0000,  0.0000,  2.0000],\n",
      "        [56.0000,  1.0000, 22.8684,  0.0000,  1.0000,  1.0000],\n",
      "        [24.0000,  0.0000, 18.0880,  0.0000,  0.0000,  0.0000],\n",
      "        [49.0000,  0.0000, 21.6920,  5.0000,  0.0000,  3.0000],\n",
      "        [36.0000,  1.0000, 22.7120,  2.0000,  1.0000,  3.0000],\n",
      "        [62.0000,  1.0000, 21.3928,  1.0000,  0.0000,  2.0000],\n",
      "        [30.0000,  0.0000, 22.6644,  1.0000,  0.0000,  2.0000],\n",
      "        [49.0000,  1.0000, 21.9640,  3.0000,  0.0000,  1.0000],\n",
      "        [34.0000,  1.0000, 18.9278,  1.0000,  1.0000,  1.0000],\n",
      "        [30.0000,  1.0000, 21.4676,  3.0000,  0.0000,  2.0000],\n",
      "        [53.0000,  0.0000, 25.4524,  1.0000,  0.0000,  1.0000],\n",
      "        [42.0000,  0.0000, 18.0880,  0.0000,  1.0000,  1.0000],\n",
      "        [62.0000,  1.0000, 14.5520,  0.0000,  0.0000,  3.0000],\n",
      "        [31.0000,  1.0000, 20.9950,  0.0000,  0.0000,  0.0000],\n",
      "        [27.0000,  1.0000, 17.7004,  0.0000,  0.0000,  0.0000],\n",
      "        [40.0000,  0.0000, 18.6320,  1.0000,  0.0000,  3.0000],\n",
      "        [47.0000,  0.0000, 16.0480,  1.0000,  0.0000,  3.0000],\n",
      "        [62.0000,  0.0000, 26.6288,  0.0000,  0.0000,  2.0000],\n",
      "        [57.0000,  0.0000, 13.6680,  1.0000,  0.0000,  3.0000],\n",
      "        [35.0000,  0.0000, 23.2628,  1.0000,  0.0000,  2.0000],\n",
      "        [53.0000,  0.0000, 26.9280,  1.0000,  0.0000,  2.0000],\n",
      "        [21.0000,  1.0000, 24.1604,  0.0000,  0.0000,  2.0000],\n",
      "        [56.0000,  0.0000, 19.2508,  0.0000,  0.0000,  0.0000],\n",
      "        [46.0000,  0.0000, 23.5280,  1.0000,  1.0000,  3.0000],\n",
      "        [51.0000,  0.0000, 23.7728,  2.0000,  1.0000,  0.0000],\n",
      "        [19.0000,  1.0000, 13.8890,  0.0000,  0.0000,  1.0000],\n",
      "        [21.0000,  1.0000, 25.0648,  0.0000,  0.0000,  1.0000],\n",
      "        [58.0000,  1.0000, 24.2760,  0.0000,  0.0000,  3.0000],\n",
      "        [19.0000,  0.0000, 19.6384,  0.0000,  1.0000,  1.0000],\n",
      "        [26.0000,  1.0000, 19.8220,  1.0000,  0.0000,  2.0000],\n",
      "        [45.0000,  0.0000, 17.1190,  2.0000,  0.0000,  0.0000],\n",
      "        [29.0000,  1.0000, 22.6746,  2.0000,  0.0000,  1.0000],\n",
      "        [46.0000,  1.0000, 16.8606,  3.0000,  0.0000,  0.0000],\n",
      "        [25.0000,  1.0000, 16.4084,  0.0000,  1.0000,  1.0000],\n",
      "        [59.0000,  0.0000, 21.8280,  3.0000,  0.0000,  3.0000],\n",
      "        [52.0000,  0.0000, 25.4320,  0.0000,  0.0000,  3.0000],\n",
      "        [44.0000,  1.0000, 20.8692,  2.0000,  0.0000,  2.0000],\n",
      "        [55.0000,  0.0000, 22.2870,  2.0000,  0.0000,  1.0000],\n",
      "        [22.0000,  0.0000, 13.7598,  0.0000,  0.0000,  1.0000],\n",
      "        [19.0000,  1.0000, 19.7676,  0.0000,  1.0000,  1.0000],\n",
      "        [32.0000,  1.0000, 18.9278,  1.0000,  0.0000,  1.0000],\n",
      "        [49.0000,  1.0000, 17.4080,  2.0000,  1.0000,  3.0000],\n",
      "        [55.0000,  1.0000, 22.4400,  0.0000,  0.0000,  2.0000],\n",
      "        [46.0000,  0.0000, 19.6520,  2.0000,  0.0000,  3.0000],\n",
      "        [53.0000,  0.0000, 19.1080,  3.0000,  0.0000,  3.0000],\n",
      "        [31.0000,  0.0000, 25.9046,  1.0000,  1.0000,  0.0000],\n",
      "        [59.0000,  1.0000, 17.3128,  1.0000,  0.0000,  0.0000],\n",
      "        [60.0000,  1.0000, 22.3040,  0.0000,  1.0000,  3.0000],\n",
      "        [43.0000,  1.0000, 15.7760,  0.0000,  0.0000,  3.0000],\n",
      "        [52.0000,  0.0000, 17.2040,  2.0000,  1.0000,  2.0000],\n",
      "        [51.0000,  1.0000, 21.9640,  1.0000,  0.0000,  0.0000],\n",
      "        [59.0000,  0.0000, 18.9244,  3.0000,  0.0000,  2.0000],\n",
      "        [50.0000,  1.0000, 25.2076,  1.0000,  0.0000,  2.0000],\n",
      "        [25.0000,  0.0000, 28.1010,  0.0000,  0.0000,  0.0000],\n",
      "        [63.0000,  0.0000, 21.8960,  2.0000,  1.0000,  3.0000],\n",
      "        [57.0000,  1.0000, 12.4678,  0.0000,  0.0000,  0.0000],\n",
      "        [61.0000,  0.0000, 14.3412,  0.0000,  0.0000,  1.0000],\n",
      "        [39.0000,  1.0000, 30.8924,  2.0000,  0.0000,  2.0000],\n",
      "        [39.0000,  1.0000, 19.2440,  1.0000,  1.0000,  3.0000],\n",
      "        [55.0000,  0.0000, 27.7508,  3.0000,  0.0000,  2.0000],\n",
      "        [53.0000,  0.0000, 24.4120,  2.0000,  0.0000,  3.0000],\n",
      "        [18.0000,  0.0000, 21.3180,  0.0000,  0.0000,  2.0000],\n",
      "        [26.0000,  1.0000, 24.0856,  0.0000,  0.0000,  2.0000],\n",
      "        [49.0000,  0.0000, 16.2146,  3.0000,  1.0000,  0.0000],\n",
      "        [19.0000,  1.0000, 17.1190,  0.0000,  0.0000,  1.0000]])\n",
      "targets: tensor([[ 2489.5366],\n",
      "        [ 6855.6826],\n",
      "        [ 3236.7585],\n",
      "        [14194.3145],\n",
      "        [29505.8848],\n",
      "        [ 5287.9839],\n",
      "        [ 1246.8411],\n",
      "        [ 3331.8599],\n",
      "        [14263.6475],\n",
      "        [34964.6562],\n",
      "        [ 8330.5303],\n",
      "        [ 4365.2036],\n",
      "        [ 5262.9292],\n",
      "        [ 1618.8489],\n",
      "        [  906.3425],\n",
      "        [ 8636.3428],\n",
      "        [ 7881.3354],\n",
      "        [ 2881.6116],\n",
      "        [ 7378.2710],\n",
      "        [ 6896.5894],\n",
      "        [11549.1104],\n",
      "        [32547.3828],\n",
      "        [ 5433.8594],\n",
      "        [ 4714.2256],\n",
      "        [14937.9883],\n",
      "        [ 2342.4146],\n",
      "        [ 4682.3501],\n",
      "        [34104.2578],\n",
      "        [ 9231.7314],\n",
      "        [ 8714.9268],\n",
      "        [ 2865.8035],\n",
      "        [ 9110.1875],\n",
      "        [ 1369.0011],\n",
      "        [ 8673.3916],\n",
      "        [ 4726.0293],\n",
      "        [ 9229.6660],\n",
      "        [ 7116.7046],\n",
      "        [28257.6992],\n",
      "        [ 2943.5356],\n",
      "        [10391.6025],\n",
      "        [10878.1074],\n",
      "        [ 8228.8018],\n",
      "        [ 5347.2852],\n",
      "        [32079.0293],\n",
      "        [ 5303.9629],\n",
      "        [ 4167.4731],\n",
      "        [ 4465.7710],\n",
      "        [ 7738.4004],\n",
      "        [ 3337.1316],\n",
      "        [19320.9805],\n",
      "        [20397.1406],\n",
      "        [ 1448.6509],\n",
      "        [15895.2549],\n",
      "        [17894.5566],\n",
      "        [ 1443.8049],\n",
      "        [ 6965.4380],\n",
      "        [14015.9590],\n",
      "        [ 2235.6311],\n",
      "        [  907.2557],\n",
      "        [ 1572.6835],\n",
      "        [18993.8340],\n",
      "        [ 6763.3018],\n",
      "        [  830.3529],\n",
      "        [ 4698.0054],\n",
      "        [32062.4648],\n",
      "        [ 2223.6252],\n",
      "        [ 8433.6201],\n",
      "        [28043.2969],\n",
      "        [19710.7188],\n",
      "        [ 3030.2510],\n",
      "        [ 7496.7056],\n",
      "        [14607.0322],\n",
      "        [ 3531.4351],\n",
      "        [ 8000.5771],\n",
      "        [15584.5557],\n",
      "        [ 9458.6963],\n",
      "        [ 2816.1643],\n",
      "        [ 2241.6904],\n",
      "        [ 4742.7266],\n",
      "        [ 6233.9600],\n",
      "        [ 9833.6875],\n",
      "        [ 8783.5977],\n",
      "        [ 3829.0156],\n",
      "        [ 7723.1890],\n",
      "        [ 1118.7029],\n",
      "        [ 8510.1348],\n",
      "        [30412.9688],\n",
      "        [32588.0742],\n",
      "        [ 1186.5667],\n",
      "        [ 1399.6425],\n",
      "        [ 8294.8115],\n",
      "        [12956.4092],\n",
      "        [ 2119.1218],\n",
      "        [ 6639.3999],\n",
      "        [14192.9180],\n",
      "        [ 6935.4185],\n",
      "        [11547.1299],\n",
      "        [10225.2725],\n",
      "        [ 7033.2129],\n",
      "        [ 5643.9419],\n",
      "        [ 8956.1016],\n",
      "        [ 1845.3076],\n",
      "        [12667.4570],\n",
      "        [ 3251.7139],\n",
      "        [17013.7793],\n",
      "        [15170.4873],\n",
      "        [ 6440.9937],\n",
      "        [ 8571.4600],\n",
      "        [42756.8828],\n",
      "        [ 9427.2148],\n",
      "        [38391.3047],\n",
      "        [ 4562.8174],\n",
      "        [18007.2168],\n",
      "        [ 7273.7637],\n",
      "        [10220.9395],\n",
      "        [ 6605.0601],\n",
      "        [13051.5977],\n",
      "        [34532.8711],\n",
      "        [ 8420.4570],\n",
      "        [ 9792.9775],\n",
      "        [ 4640.0776],\n",
      "        [15389.9766],\n",
      "        [ 9114.6348],\n",
      "        [ 8149.4048],\n",
      "        [ 1184.1976],\n",
      "        [ 1695.5139],\n",
      "        [17598.0469],\n",
      "        [ 1191.3865]])\n"
     ]
    }
   ],
   "source": [
    "for xb, yb in train_loader:\n",
    "    print(\"inputs:\", xb)\n",
    "    print(\"targets:\", yb)\n",
    "    break"
   ]
  },
  {
   "cell_type": "markdown",
   "metadata": {
    "id": "GYapKG1R8e2D"
   },
   "source": [
    "Let's save our work by committing to Jovian."
   ]
  },
  {
   "cell_type": "code",
   "execution_count": 52,
   "metadata": {
    "colab": {
     "base_uri": "https://localhost:8080/",
     "height": 86
    },
    "executionInfo": {
     "elapsed": 2901,
     "status": "ok",
     "timestamp": 1619371912449,
     "user": {
      "displayName": "keddar idir younes",
      "photoUrl": "",
      "userId": "18267551033182803145"
     },
     "user_tz": -120
    },
    "id": "HmuatayY8e2D",
    "outputId": "28a61ef7-7e13-4f57-d5a0-7948e180485f"
   },
   "outputs": [
    {
     "name": "stdout",
     "output_type": "stream",
     "text": [
      "[jovian] Detected Colab notebook...\u001b[0m\n",
      "[jovian] Uploading colab notebook to Jovian...\u001b[0m\n",
      "[jovian] Committed successfully! https://jovian.ai/younka16-5u9/02-insurance-linear-regression\u001b[0m\n"
     ]
    },
    {
     "data": {
      "application/vnd.google.colaboratory.intrinsic+json": {
       "type": "string"
      },
      "text/plain": [
       "'https://jovian.ai/younka16-5u9/02-insurance-linear-regression'"
      ]
     },
     "execution_count": 52,
     "metadata": {
      "tags": []
     },
     "output_type": "execute_result"
    }
   ],
   "source": [
    "jovian.commit(project=project_name, environment=None)"
   ]
  },
  {
   "cell_type": "markdown",
   "metadata": {
    "id": "2HPyLGmt8e2D"
   },
   "source": [
    "## Step 3: Create a Linear Regression Model\n",
    "\n",
    "Our model itself is a fairly straightforward linear regression (we'll build more complex models in the next assignment). \n"
   ]
  },
  {
   "cell_type": "code",
   "execution_count": 54,
   "metadata": {
    "executionInfo": {
     "elapsed": 285,
     "status": "ok",
     "timestamp": 1619371928344,
     "user": {
      "displayName": "keddar idir younes",
      "photoUrl": "",
      "userId": "18267551033182803145"
     },
     "user_tz": -120
    },
    "id": "0ccMChfv8e2E"
   },
   "outputs": [],
   "source": [
    "input_size = len(input_cols)\n",
    "output_size = len(output_cols)"
   ]
  },
  {
   "cell_type": "markdown",
   "metadata": {
    "id": "Qh9JXGzB8e2E"
   },
   "source": [
    "**Q: Complete the class definition below by filling out the constructor (`__init__`), `forward`, `training_step` and `validation_step` methods.**\n",
    "\n",
    "Hint: Think carefully about picking a good loss fuction (it's not cross entropy). Maybe try 2-3 of them and see which one works best. See https://pytorch.org/docs/stable/nn.functional.html#loss-functions"
   ]
  },
  {
   "cell_type": "code",
   "execution_count": 56,
   "metadata": {
    "executionInfo": {
     "elapsed": 556,
     "status": "ok",
     "timestamp": 1619372271908,
     "user": {
      "displayName": "keddar idir younes",
      "photoUrl": "",
      "userId": "18267551033182803145"
     },
     "user_tz": -120
    },
    "id": "0JDKifYR8e2E"
   },
   "outputs": [],
   "source": [
    "class InsuranceModel(nn.Module):\n",
    "    def __init__(self):\n",
    "        super().__init__()\n",
    "        self.linear = nn.Linear(input_size, output_size)                   # fill this (hint: use input_size & output_size defined above)\n",
    "        \n",
    "    def forward(self, xb):\n",
    "        out = self.linear(xb)                           # fill this\n",
    "        return out\n",
    "    \n",
    "    def training_step(self, batch):\n",
    "        inputs, targets = batch \n",
    "        # Generate predictions\n",
    "        out = self(inputs)          \n",
    "        # Calcuate loss\n",
    "        loss = F.smooth_l1_loss(out, targets)                          # fill this\n",
    "        return loss\n",
    "    \n",
    "    def validation_step(self, batch):\n",
    "        inputs, targets = batch\n",
    "        # Generate predictions\n",
    "        out = self(inputs)\n",
    "        # Calculate loss\n",
    "        loss = F.smooth_l1_loss(out, targets)                           # fill this    \n",
    "        return {'val_loss': loss.detach()}\n",
    "        \n",
    "    def validation_epoch_end(self, outputs):\n",
    "        batch_losses = [x['val_loss'] for x in outputs]\n",
    "        epoch_loss = torch.stack(batch_losses).mean()   # Combine losses\n",
    "        return {'val_loss': epoch_loss.item()}\n",
    "    \n",
    "    def epoch_end(self, epoch, result, num_epochs):\n",
    "        # Print result every 20th epoch\n",
    "        if (epoch+1) % 20 == 0 or epoch == num_epochs-1:\n",
    "            print(\"Epoch [{}], val_loss: {:.4f}\".format(epoch+1, result['val_loss']))"
   ]
  },
  {
   "cell_type": "markdown",
   "metadata": {
    "id": "0v-FUwle8e2F"
   },
   "source": [
    "Let us create a model using the `InsuranceModel` class. You may need to come back later and re-run the next cell to reinitialize the model, in case the loss becomes `nan` or `infinity`."
   ]
  },
  {
   "cell_type": "code",
   "execution_count": 61,
   "metadata": {
    "executionInfo": {
     "elapsed": 432,
     "status": "ok",
     "timestamp": 1619372313617,
     "user": {
      "displayName": "keddar idir younes",
      "photoUrl": "",
      "userId": "18267551033182803145"
     },
     "user_tz": -120
    },
    "id": "Jg0xgTEF8e2F"
   },
   "outputs": [],
   "source": [
    "model = InsuranceModel()"
   ]
  },
  {
   "cell_type": "markdown",
   "metadata": {
    "id": "3fnuhQhl8e2G"
   },
   "source": [
    "Let's check out the weights and biases of the model using `model.parameters`."
   ]
  },
  {
   "cell_type": "code",
   "execution_count": 62,
   "metadata": {
    "colab": {
     "base_uri": "https://localhost:8080/"
    },
    "executionInfo": {
     "elapsed": 428,
     "status": "ok",
     "timestamp": 1619372315322,
     "user": {
      "displayName": "keddar idir younes",
      "photoUrl": "",
      "userId": "18267551033182803145"
     },
     "user_tz": -120
    },
    "id": "AmNYU1dK8e2G",
    "outputId": "51da2fa3-959f-41d0-e707-9ab8cb98f30f"
   },
   "outputs": [
    {
     "data": {
      "text/plain": [
       "[Parameter containing:\n",
       " tensor([[ 0.3286, -0.3443,  0.0268, -0.3755,  0.3220,  0.0012]],\n",
       "        requires_grad=True), Parameter containing:\n",
       " tensor([0.4072], requires_grad=True)]"
      ]
     },
     "execution_count": 62,
     "metadata": {
      "tags": []
     },
     "output_type": "execute_result"
    }
   ],
   "source": [
    "list(model.parameters())"
   ]
  },
  {
   "cell_type": "markdown",
   "metadata": {
    "id": "mO0iQWhW8e2G"
   },
   "source": [
    "One final commit before we train the model."
   ]
  },
  {
   "cell_type": "code",
   "execution_count": 63,
   "metadata": {
    "colab": {
     "base_uri": "https://localhost:8080/",
     "height": 86
    },
    "executionInfo": {
     "elapsed": 3995,
     "status": "ok",
     "timestamp": 1619372322437,
     "user": {
      "displayName": "keddar idir younes",
      "photoUrl": "",
      "userId": "18267551033182803145"
     },
     "user_tz": -120
    },
    "id": "0D9vWEKi8e2G",
    "outputId": "4139d75f-49a2-45d4-d09e-62bfbe968a93"
   },
   "outputs": [
    {
     "name": "stdout",
     "output_type": "stream",
     "text": [
      "[jovian] Detected Colab notebook...\u001b[0m\n",
      "[jovian] Uploading colab notebook to Jovian...\u001b[0m\n",
      "[jovian] Committed successfully! https://jovian.ai/younka16-5u9/02-insurance-linear-regression\u001b[0m\n"
     ]
    },
    {
     "data": {
      "application/vnd.google.colaboratory.intrinsic+json": {
       "type": "string"
      },
      "text/plain": [
       "'https://jovian.ai/younka16-5u9/02-insurance-linear-regression'"
      ]
     },
     "execution_count": 63,
     "metadata": {
      "tags": []
     },
     "output_type": "execute_result"
    }
   ],
   "source": [
    "jovian.commit(project=project_name, environment=None)"
   ]
  },
  {
   "cell_type": "markdown",
   "metadata": {
    "id": "WPWCOJp_8e2H"
   },
   "source": [
    "## Step 4: Train the model to fit the data\n",
    "\n",
    "To train our model, we'll use the same `fit` function explained in the lecture. That's the benefit of defining a generic training loop - you can use it for any problem."
   ]
  },
  {
   "cell_type": "code",
   "execution_count": 64,
   "metadata": {
    "executionInfo": {
     "elapsed": 452,
     "status": "ok",
     "timestamp": 1619372333292,
     "user": {
      "displayName": "keddar idir younes",
      "photoUrl": "",
      "userId": "18267551033182803145"
     },
     "user_tz": -120
    },
    "id": "Gx5v025s8e2H"
   },
   "outputs": [],
   "source": [
    "def evaluate(model, val_loader):\n",
    "    outputs = [model.validation_step(batch) for batch in val_loader]\n",
    "    return model.validation_epoch_end(outputs)\n",
    "\n",
    "def fit(epochs, lr, model, train_loader, val_loader, opt_func=torch.optim.SGD):\n",
    "    history = []\n",
    "    optimizer = opt_func(model.parameters(), lr)\n",
    "    for epoch in range(epochs):\n",
    "        # Training Phase \n",
    "        for batch in train_loader:\n",
    "            loss = model.training_step(batch)\n",
    "            loss.backward()\n",
    "            optimizer.step()\n",
    "            optimizer.zero_grad()\n",
    "        # Validation phase\n",
    "        result = evaluate(model, val_loader)\n",
    "        model.epoch_end(epoch, result, epochs)\n",
    "        history.append(result)\n",
    "    return history"
   ]
  },
  {
   "cell_type": "markdown",
   "metadata": {
    "id": "5S6qgM4L8e2H"
   },
   "source": [
    "**Q: Use the `evaluate` function to calculate the loss on the validation set before training.**"
   ]
  },
  {
   "cell_type": "code",
   "execution_count": 65,
   "metadata": {
    "colab": {
     "base_uri": "https://localhost:8080/"
    },
    "executionInfo": {
     "elapsed": 444,
     "status": "ok",
     "timestamp": 1619372357824,
     "user": {
      "displayName": "keddar idir younes",
      "photoUrl": "",
      "userId": "18267551033182803145"
     },
     "user_tz": -120
    },
    "id": "m137_EYY8e2H",
    "outputId": "d4da4b41-78a0-4929-c33d-4123b2737d6c"
   },
   "outputs": [
    {
     "name": "stdout",
     "output_type": "stream",
     "text": [
      "{'val_loss': 10587.986328125}\n"
     ]
    }
   ],
   "source": [
    "result = evaluate(model, val_loader) # Use the the evaluate function\n",
    "print(result)"
   ]
  },
  {
   "cell_type": "markdown",
   "metadata": {
    "id": "Mf6cuoWE8e2I"
   },
   "source": [
    "\n",
    "We are now ready to train the model. You may need to run the training loop many times, for different number of epochs and with different learning rates, to get a good result. Also, if your loss becomes too large (or `nan`), you may have to re-initialize the model by running the cell `model = InsuranceModel()`. Experiment with this for a while, and try to get to as low a loss as possible."
   ]
  },
  {
   "cell_type": "markdown",
   "metadata": {
    "id": "glEy2meB8e2I"
   },
   "source": [
    "**Q: Train the model 4-5 times with different learning rates & for different number of epochs.**\n",
    "\n",
    "Hint: Vary learning rates by orders of 10 (e.g. `1e-2`, `1e-3`, `1e-4`, `1e-5`, `1e-6`) to figure out what works."
   ]
  },
  {
   "cell_type": "code",
   "execution_count": 66,
   "metadata": {
    "colab": {
     "base_uri": "https://localhost:8080/"
    },
    "executionInfo": {
     "elapsed": 7665,
     "status": "ok",
     "timestamp": 1619372438411,
     "user": {
      "displayName": "keddar idir younes",
      "photoUrl": "",
      "userId": "18267551033182803145"
     },
     "user_tz": -120
    },
    "id": "kDlYnRh18e2I",
    "outputId": "701a1965-1bce-4210-d232-c3f2b456b55d"
   },
   "outputs": [
    {
     "name": "stdout",
     "output_type": "stream",
     "text": [
      "Epoch [20], val_loss: 7374.8354\n",
      "Epoch [40], val_loss: 6184.5430\n",
      "Epoch [60], val_loss: 6052.7168\n",
      "Epoch [80], val_loss: 6037.3564\n",
      "Epoch [100], val_loss: 6029.2178\n",
      "Epoch [120], val_loss: 6022.2900\n",
      "Epoch [140], val_loss: 6015.5352\n",
      "Epoch [160], val_loss: 6008.8813\n",
      "Epoch [180], val_loss: 6002.2480\n",
      "Epoch [200], val_loss: 5995.6973\n",
      "Epoch [220], val_loss: 5989.4302\n",
      "Epoch [240], val_loss: 5983.2334\n",
      "Epoch [260], val_loss: 5977.1201\n",
      "Epoch [280], val_loss: 5970.6172\n",
      "Epoch [300], val_loss: 5964.5039\n",
      "Epoch [320], val_loss: 5958.5459\n",
      "Epoch [340], val_loss: 5952.8379\n",
      "Epoch [360], val_loss: 5947.5488\n",
      "Epoch [380], val_loss: 5942.5830\n",
      "Epoch [400], val_loss: 5938.0469\n",
      "Epoch [420], val_loss: 5933.4912\n",
      "Epoch [440], val_loss: 5929.1733\n",
      "Epoch [460], val_loss: 5925.0000\n",
      "Epoch [480], val_loss: 5920.7383\n",
      "Epoch [500], val_loss: 5917.3628\n"
     ]
    }
   ],
   "source": [
    "epochs = 500\n",
    "lr = 1e-2\n",
    "history1 = fit(epochs, lr, model, train_loader, val_loader)"
   ]
  },
  {
   "cell_type": "code",
   "execution_count": 67,
   "metadata": {
    "colab": {
     "base_uri": "https://localhost:8080/"
    },
    "executionInfo": {
     "elapsed": 7261,
     "status": "ok",
     "timestamp": 1619372456127,
     "user": {
      "displayName": "keddar idir younes",
      "photoUrl": "",
      "userId": "18267551033182803145"
     },
     "user_tz": -120
    },
    "id": "WdkDxsXe8e2J",
    "outputId": "fac61826-9831-4834-83a5-80af5a00e3cb"
   },
   "outputs": [
    {
     "name": "stdout",
     "output_type": "stream",
     "text": [
      "Epoch [20], val_loss: 5916.9082\n",
      "Epoch [40], val_loss: 5916.4893\n",
      "Epoch [60], val_loss: 5916.0762\n",
      "Epoch [80], val_loss: 5915.7334\n",
      "Epoch [100], val_loss: 5915.3828\n",
      "Epoch [120], val_loss: 5915.0405\n",
      "Epoch [140], val_loss: 5914.6509\n",
      "Epoch [160], val_loss: 5914.3115\n",
      "Epoch [180], val_loss: 5914.0010\n",
      "Epoch [200], val_loss: 5913.6162\n",
      "Epoch [220], val_loss: 5913.2324\n",
      "Epoch [240], val_loss: 5912.8804\n",
      "Epoch [260], val_loss: 5912.4995\n",
      "Epoch [280], val_loss: 5912.1445\n",
      "Epoch [300], val_loss: 5911.8301\n",
      "Epoch [320], val_loss: 5911.4834\n",
      "Epoch [340], val_loss: 5911.1836\n",
      "Epoch [360], val_loss: 5910.7959\n",
      "Epoch [380], val_loss: 5910.4160\n",
      "Epoch [400], val_loss: 5910.0527\n",
      "Epoch [420], val_loss: 5909.6724\n",
      "Epoch [440], val_loss: 5909.3496\n",
      "Epoch [460], val_loss: 5909.0420\n",
      "Epoch [480], val_loss: 5908.7554\n",
      "Epoch [500], val_loss: 5908.4419\n"
     ]
    }
   ],
   "source": [
    "epochs = 500\n",
    "lr = 1e-3\n",
    "history2 = fit(epochs, lr, model, train_loader, val_loader)"
   ]
  },
  {
   "cell_type": "code",
   "execution_count": 68,
   "metadata": {
    "colab": {
     "base_uri": "https://localhost:8080/"
    },
    "executionInfo": {
     "elapsed": 7131,
     "status": "ok",
     "timestamp": 1619372478795,
     "user": {
      "displayName": "keddar idir younes",
      "photoUrl": "",
      "userId": "18267551033182803145"
     },
     "user_tz": -120
    },
    "id": "wTc2QjNw8e2J",
    "outputId": "ed9e0dd5-452e-4300-c244-5ab9b0271bc5"
   },
   "outputs": [
    {
     "name": "stdout",
     "output_type": "stream",
     "text": [
      "Epoch [20], val_loss: 5908.4033\n",
      "Epoch [40], val_loss: 5908.3638\n",
      "Epoch [60], val_loss: 5908.3242\n",
      "Epoch [80], val_loss: 5908.2920\n",
      "Epoch [100], val_loss: 5908.2607\n",
      "Epoch [120], val_loss: 5908.2285\n",
      "Epoch [140], val_loss: 5908.1978\n",
      "Epoch [160], val_loss: 5908.1660\n",
      "Epoch [180], val_loss: 5908.1377\n",
      "Epoch [200], val_loss: 5908.0977\n",
      "Epoch [220], val_loss: 5908.0693\n",
      "Epoch [240], val_loss: 5908.0488\n",
      "Epoch [260], val_loss: 5908.0098\n",
      "Epoch [280], val_loss: 5907.9766\n",
      "Epoch [300], val_loss: 5907.9463\n",
      "Epoch [320], val_loss: 5907.9170\n",
      "Epoch [340], val_loss: 5907.8955\n",
      "Epoch [360], val_loss: 5907.8696\n",
      "Epoch [380], val_loss: 5907.8491\n",
      "Epoch [400], val_loss: 5907.8115\n",
      "Epoch [420], val_loss: 5907.7847\n",
      "Epoch [440], val_loss: 5907.7568\n",
      "Epoch [460], val_loss: 5907.7300\n",
      "Epoch [480], val_loss: 5907.6963\n",
      "Epoch [500], val_loss: 5907.6729\n"
     ]
    }
   ],
   "source": [
    "epochs = 500\n",
    "lr = 1e-4\n",
    "history3 = fit(epochs, lr, model, train_loader, val_loader)"
   ]
  },
  {
   "cell_type": "code",
   "execution_count": 69,
   "metadata": {
    "colab": {
     "base_uri": "https://localhost:8080/"
    },
    "executionInfo": {
     "elapsed": 7282,
     "status": "ok",
     "timestamp": 1619372518327,
     "user": {
      "displayName": "keddar idir younes",
      "photoUrl": "",
      "userId": "18267551033182803145"
     },
     "user_tz": -120
    },
    "id": "0L4aWG-p8e2J",
    "outputId": "59ec6ecf-299b-4d47-a43a-3d61d7ad97a6"
   },
   "outputs": [
    {
     "name": "stdout",
     "output_type": "stream",
     "text": [
      "Epoch [20], val_loss: 5907.6699\n",
      "Epoch [40], val_loss: 5907.6680\n",
      "Epoch [60], val_loss: 5907.6650\n",
      "Epoch [80], val_loss: 5907.6611\n",
      "Epoch [100], val_loss: 5907.6587\n",
      "Epoch [120], val_loss: 5907.6562\n",
      "Epoch [140], val_loss: 5907.6543\n",
      "Epoch [160], val_loss: 5907.6514\n",
      "Epoch [180], val_loss: 5907.6479\n",
      "Epoch [200], val_loss: 5907.6455\n",
      "Epoch [220], val_loss: 5907.6426\n",
      "Epoch [240], val_loss: 5907.6406\n",
      "Epoch [260], val_loss: 5907.6387\n",
      "Epoch [280], val_loss: 5907.6353\n",
      "Epoch [300], val_loss: 5907.6318\n",
      "Epoch [320], val_loss: 5907.6289\n",
      "Epoch [340], val_loss: 5907.6260\n",
      "Epoch [360], val_loss: 5907.6240\n",
      "Epoch [380], val_loss: 5907.6211\n",
      "Epoch [400], val_loss: 5907.6182\n",
      "Epoch [420], val_loss: 5907.6162\n",
      "Epoch [440], val_loss: 5907.6123\n",
      "Epoch [460], val_loss: 5907.6104\n",
      "Epoch [480], val_loss: 5907.6064\n",
      "Epoch [500], val_loss: 5907.6035\n"
     ]
    }
   ],
   "source": [
    "epochs = 500\n",
    "lr = 1e-5\n",
    "history4 = fit(epochs, lr, model, train_loader, val_loader)"
   ]
  },
  {
   "cell_type": "code",
   "execution_count": 70,
   "metadata": {
    "colab": {
     "base_uri": "https://localhost:8080/"
    },
    "executionInfo": {
     "elapsed": 7160,
     "status": "ok",
     "timestamp": 1619372527721,
     "user": {
      "displayName": "keddar idir younes",
      "photoUrl": "",
      "userId": "18267551033182803145"
     },
     "user_tz": -120
    },
    "id": "BN8hbvf98e2L",
    "outputId": "cb0675cc-6cf3-468a-a433-190040087f6a"
   },
   "outputs": [
    {
     "name": "stdout",
     "output_type": "stream",
     "text": [
      "Epoch [20], val_loss: 5907.6035\n",
      "Epoch [40], val_loss: 5907.6035\n",
      "Epoch [60], val_loss: 5907.6035\n",
      "Epoch [80], val_loss: 5907.6030\n",
      "Epoch [100], val_loss: 5907.6035\n",
      "Epoch [120], val_loss: 5907.6035\n",
      "Epoch [140], val_loss: 5907.6035\n",
      "Epoch [160], val_loss: 5907.6035\n",
      "Epoch [180], val_loss: 5907.6035\n",
      "Epoch [200], val_loss: 5907.6035\n",
      "Epoch [220], val_loss: 5907.6030\n",
      "Epoch [240], val_loss: 5907.6035\n",
      "Epoch [260], val_loss: 5907.6040\n",
      "Epoch [280], val_loss: 5907.6035\n",
      "Epoch [300], val_loss: 5907.6035\n",
      "Epoch [320], val_loss: 5907.6035\n",
      "Epoch [340], val_loss: 5907.6035\n",
      "Epoch [360], val_loss: 5907.6035\n",
      "Epoch [380], val_loss: 5907.6035\n",
      "Epoch [400], val_loss: 5907.6035\n",
      "Epoch [420], val_loss: 5907.6035\n",
      "Epoch [440], val_loss: 5907.6035\n",
      "Epoch [460], val_loss: 5907.6035\n",
      "Epoch [480], val_loss: 5907.6035\n",
      "Epoch [500], val_loss: 5907.6035\n"
     ]
    }
   ],
   "source": [
    "epochs = 500\n",
    "lr = 1e-6\n",
    "history5 = fit(epochs, lr, model, train_loader, val_loader)"
   ]
  },
  {
   "cell_type": "code",
   "execution_count": 71,
   "metadata": {
    "colab": {
     "base_uri": "https://localhost:8080/",
     "height": 362
    },
    "executionInfo": {
     "elapsed": 813,
     "status": "ok",
     "timestamp": 1619372571678,
     "user": {
      "displayName": "keddar idir younes",
      "photoUrl": "",
      "userId": "18267551033182803145"
     },
     "user_tz": -120
    },
    "id": "Sce4ZKs0IG7h",
    "outputId": "c661c6cc-b256-4699-9b86-00b4380093b5"
   },
   "outputs": [
    {
     "data": {
      "image/png": "[encoded data removed]",
      "text/plain": [
       "<Figure size 648x360 with 1 Axes>"
      ]
     },
     "metadata": {
      "needs_background": "light",
      "tags": []
     },
     "output_type": "display_data"
    }
   ],
   "source": [
    "losses = [r['val_loss'] for r in [result] + history3]\n",
    "plt.plot(losses, '-x')\n",
    "plt.xlabel('epoch')\n",
    "plt.ylabel('val_loss')\n",
    "plt.title('val_loss vs. epochs');"
   ]
  },
  {
   "cell_type": "markdown",
   "metadata": {
    "id": "qPd-9Vrp8e2M"
   },
   "source": [
    "**Q: What is the final validation loss of your model?**"
   ]
  },
  {
   "cell_type": "code",
   "execution_count": null,
   "metadata": {
    "id": "neY6_aqf8e2N"
   },
   "outputs": [],
   "source": [
    "val_loss = 0"
   ]
  },
  {
   "cell_type": "markdown",
   "metadata": {
    "id": "coP6KfRj8e2O"
   },
   "source": [
    "Let's log the final validation loss to Jovian and commit the notebook"
   ]
  },
  {
   "cell_type": "code",
   "execution_count": 73,
   "metadata": {
    "colab": {
     "base_uri": "https://localhost:8080/",
     "height": 163
    },
    "executionInfo": {
     "elapsed": 493,
     "status": "error",
     "timestamp": 1619372607796,
     "user": {
      "displayName": "keddar idir younes",
      "photoUrl": "",
      "userId": "18267551033182803145"
     },
     "user_tz": -120
    },
    "id": "uw4iMOGp8e2O",
    "outputId": "3d4646d4-bde5-4411-bf83-b4dca1acc132"
   },
   "outputs": [
    {
     "ename": "NameError",
     "evalue": "ignored",
     "output_type": "error",
     "traceback": [
      "\u001b[0;31m---------------------------------------------------------------------------\u001b[0m",
      "\u001b[0;31mNameError\u001b[0m                                 Traceback (most recent call last)",
      "\u001b[0;32m<ipython-input-73-75af21d2c3b3>\u001b[0m in \u001b[0;36m<module>\u001b[0;34m()\u001b[0m\n\u001b[0;32m----> 1\u001b[0;31m \u001b[0mjovian\u001b[0m\u001b[0;34m.\u001b[0m\u001b[0mlog_metrics\u001b[0m\u001b[0;34m(\u001b[0m\u001b[0mval_loss\u001b[0m\u001b[0;34m=\u001b[0m\u001b[0mval_loss\u001b[0m\u001b[0;34m)\u001b[0m\u001b[0;34m\u001b[0m\u001b[0;34m\u001b[0m\u001b[0m\n\u001b[0m",
      "\u001b[0;31mNameError\u001b[0m: name 'val_loss' is not defined"
     ]
    }
   ],
   "source": [
    "jovian.log_metrics(val_loss=val_loss)"
   ]
  },
  {
   "cell_type": "code",
   "execution_count": 74,
   "metadata": {
    "colab": {
     "base_uri": "https://localhost:8080/",
     "height": 86
    },
    "executionInfo": {
     "elapsed": 2835,
     "status": "ok",
     "timestamp": 1619372612272,
     "user": {
      "displayName": "keddar idir younes",
      "photoUrl": "",
      "userId": "18267551033182803145"
     },
     "user_tz": -120
    },
    "id": "JuRoIu5Y8e2O",
    "outputId": "ca777b8c-0e5d-4b12-aa4f-ae1a969be7e2"
   },
   "outputs": [
    {
     "name": "stdout",
     "output_type": "stream",
     "text": [
      "[jovian] Detected Colab notebook...\u001b[0m\n",
      "[jovian] Uploading colab notebook to Jovian...\u001b[0m\n",
      "[jovian] Committed successfully! https://jovian.ai/younka16-5u9/02-insurance-linear-regression\u001b[0m\n"
     ]
    },
    {
     "data": {
      "application/vnd.google.colaboratory.intrinsic+json": {
       "type": "string"
      },
      "text/plain": [
       "'https://jovian.ai/younka16-5u9/02-insurance-linear-regression'"
      ]
     },
     "execution_count": 74,
     "metadata": {
      "tags": []
     },
     "output_type": "execute_result"
    }
   ],
   "source": [
    "jovian.commit(project=project_name, environment=None)"
   ]
  },
  {
   "cell_type": "markdown",
   "metadata": {
    "id": "eilxtChx8e2P"
   },
   "source": [
    "Now scroll back up, re-initialize the model, and try different set of values for batch size, number of epochs, learning rate etc. Commit each experiment and use the \"Compare\" and \"View Diff\" options on Jovian to compare the different results."
   ]
  },
  {
   "cell_type": "markdown",
   "metadata": {
    "id": "WdvYA16c8e2P"
   },
   "source": [
    "## Step 5: Make predictions using the trained model\n",
    "\n",
    "**Q: Complete the following function definition to make predictions on a single input**"
   ]
  },
  {
   "cell_type": "code",
   "execution_count": 76,
   "metadata": {
    "executionInfo": {
     "elapsed": 434,
     "status": "ok",
     "timestamp": 1619372665045,
     "user": {
      "displayName": "keddar idir younes",
      "photoUrl": "",
      "userId": "18267551033182803145"
     },
     "user_tz": -120
    },
    "id": "lysMy9i68e2P"
   },
   "outputs": [],
   "source": [
    "def predict_single(input, target, model):\n",
    "    inputs = input.unsqueeze(0)\n",
    "    predictions = model(inputs)          # fill this\n",
    "    prediction = predictions[0].detach()\n",
    "    print(\"Input:\", input)\n",
    "    print(\"Target:\", target)\n",
    "    print(\"Prediction:\", prediction)"
   ]
  },
  {
   "cell_type": "code",
   "execution_count": 77,
   "metadata": {
    "colab": {
     "base_uri": "https://localhost:8080/"
    },
    "executionInfo": {
     "elapsed": 503,
     "status": "ok",
     "timestamp": 1619372684679,
     "user": {
      "displayName": "keddar idir younes",
      "photoUrl": "",
      "userId": "18267551033182803145"
     },
     "user_tz": -120
    },
    "id": "vXKWRhUr8e2Q",
    "outputId": "d70f7474-28a1-43a7-dc75-5de7910e4fa8"
   },
   "outputs": [
    {
     "name": "stdout",
     "output_type": "stream",
     "text": [
      "Input: tensor([21.0000,  1.0000, 16.1500,  2.0000,  0.0000,  1.0000])\n",
      "Target: tensor([2246.2798])\n",
      "Prediction: tensor([2802.7622])\n"
     ]
    }
   ],
   "source": [
    "input, target = val_ds[0]\n",
    "predict_single(input, target, model)"
   ]
  },
  {
   "cell_type": "code",
   "execution_count": 78,
   "metadata": {
    "colab": {
     "base_uri": "https://localhost:8080/"
    },
    "executionInfo": {
     "elapsed": 438,
     "status": "ok",
     "timestamp": 1619372687114,
     "user": {
      "displayName": "keddar idir younes",
      "photoUrl": "",
      "userId": "18267551033182803145"
     },
     "user_tz": -120
    },
    "id": "mRH14GMC8e2S",
    "outputId": "59cc43f9-afb6-4b43-b4a9-df0f3c7d1750"
   },
   "outputs": [
    {
     "name": "stdout",
     "output_type": "stream",
     "text": [
      "Input: tensor([39.0000,  1.0000, 29.0054,  0.0000,  0.0000,  0.0000])\n",
      "Target: tensor([4202.9116])\n",
      "Prediction: tensor([5242.5938])\n"
     ]
    }
   ],
   "source": [
    "input, target = val_ds[10]\n",
    "predict_single(input, target, model)"
   ]
  },
  {
   "cell_type": "code",
   "execution_count": 79,
   "metadata": {
    "colab": {
     "base_uri": "https://localhost:8080/"
    },
    "executionInfo": {
     "elapsed": 436,
     "status": "ok",
     "timestamp": 1619372688749,
     "user": {
      "displayName": "keddar idir younes",
      "photoUrl": "",
      "userId": "18267551033182803145"
     },
     "user_tz": -120
    },
    "id": "aBzu2RX08e2T",
    "outputId": "6565584f-e785-45e5-da1d-dbb4deaaa29f"
   },
   "outputs": [
    {
     "name": "stdout",
     "output_type": "stream",
     "text": [
      "Input: tensor([62.0000,  1.0000, 27.1524,  0.0000,  0.0000,  2.0000])\n",
      "Target: tensor([9477.4980])\n",
      "Prediction: tensor([9069.8350])\n"
     ]
    }
   ],
   "source": [
    "input, target = val_ds[23]\n",
    "predict_single(input, target, model)"
   ]
  },
  {
   "cell_type": "markdown",
   "metadata": {
    "id": "0b2X7yJn8e2T"
   },
   "source": [
    "Are you happy with your model's predictions? Try to improve them further."
   ]
  },
  {
   "cell_type": "markdown",
   "metadata": {
    "id": "q0JF-nGE8e2T"
   },
   "source": [
    "## (Optional) Step 6: Try another dataset & blog about it\n",
    "\n",
    "While this last step is optional for the submission of your assignment, we highly recommend that you do it. Try to replicate this notebook for a different linear regression or logistic regression problem. This will help solidify your understanding, and give you a chance to differentiate the generic patterns in machine learning from problem-specific details.You can use one of these starer notebooks (just change the dataset):\n",
    "\n",
    "- Linear regression (minimal): https://jovian.ai/aakashns/housing-linear-minimal\n",
    "- Logistic regression (minimal): https://jovian.ai/aakashns/mnist-logistic-minimal\n",
    "\n",
    "Here are some sources to find good datasets:\n",
    "\n",
    "- https://lionbridge.ai/datasets/10-open-datasets-for-linear-regression/\n",
    "- https://www.kaggle.com/rtatman/datasets-for-regression-analysis\n",
    "- https://archive.ics.uci.edu/ml/datasets.php?format=&task=reg&att=&area=&numAtt=&numIns=&type=&sort=nameUp&view=table\n",
    "- https://people.sc.fsu.edu/~jburkardt/datasets/regression/regression.html\n",
    "- https://archive.ics.uci.edu/ml/datasets/wine+quality\n",
    "- https://pytorch.org/docs/stable/torchvision/datasets.html\n",
    "\n",
    "We also recommend that you write a blog about your approach to the problem. Here is a suggested structure for your post (feel free to experiment with it):\n",
    "\n",
    "- Interesting title & subtitle\n",
    "- Overview of what the blog covers (which dataset, linear regression or logistic regression, intro to PyTorch)\n",
    "- Downloading & exploring the data\n",
    "- Preparing the data for training\n",
    "- Creating a model using PyTorch\n",
    "- Training the model to fit the data\n",
    "- Your thoughts on how to experiment with different hyperparmeters to reduce loss\n",
    "- Making predictions using the model\n",
    "\n",
    "As with the previous assignment, you can [embed Juptyer notebook cells & outputs from Jovian](https://medium.com/jovianml/share-and-embed-jupyter-notebooks-online-with-jovian-ml-df709a03064e) into your blog. \n",
    "\n",
    "Don't forget to share your work on the forum: https://jovian.ai/forum/t/linear-regression-and-logistic-regression-notebooks-and-blog-posts/14039"
   ]
  },
  {
   "cell_type": "code",
   "execution_count": null,
   "metadata": {
    "id": "JFXBTLlq8e2U",
    "outputId": "a8e932bc-67ab-4a0d-d7fb-2a9331d8d981"
   },
   "outputs": [
    {
     "data": {
      "application/javascript": [
       "window.require && require([\"base/js/namespace\"],function(Jupyter){Jupyter.notebook.save_checkpoint()})"
      ],
      "text/plain": [
       "<IPython.core.display.Javascript object>"
      ]
     },
     "metadata": {
      "tags": []
     },
     "output_type": "display_data"
    },
    {
     "name": "stdout",
     "output_type": "stream",
     "text": [
      "[jovian] Attempting to save notebook..\u001b[0m\n",
      "[jovian] Updating notebook \"aakashns/02-insurance-linear-regression\" on https://jovian.ai/\u001b[0m\n",
      "[jovian] Uploading notebook..\u001b[0m\n",
      "[jovian] Committed successfully! https://jovian.ai/aakashns/02-insurance-linear-regression\u001b[0m\n"
     ]
    },
    {
     "data": {
      "application/javascript": [
       "window.require && require([\"base/js/namespace\"],function(Jupyter){Jupyter.notebook.save_checkpoint()})"
      ],
      "text/plain": [
       "<IPython.core.display.Javascript object>"
      ]
     },
     "metadata": {
      "tags": []
     },
     "output_type": "display_data"
    },
    {
     "name": "stdout",
     "output_type": "stream",
     "text": [
      "[jovian] Attempting to save notebook..\u001b[0m\n"
     ]
    }
   ],
   "source": [
    "jovian.commit(project=project_name, environment=None)\n",
    "jovian.commit(project=project_name, environment=None) # try again, kaggle fails sometimes"
   ]
  },
  {
   "cell_type": "code",
   "execution_count": null,
   "metadata": {
    "id": "xmXikET08e2U"
   },
   "outputs": [],
   "source": []
  }
 ],
 "metadata": {
  "colab": {
   "name": "02-insurance-linear.ipynb",
   "provenance": []
  },
  "language_info": {
   "codemirror_mode": {
    "name": "ipython",
    "version": 3
   },
   "file_extension": ".py",
   "mimetype": "text/x-python",
   "name": "python",
   "nbconvert_exporter": "python",
   "pygments_lexer": "ipython3",
   "version": "3.8.5"
  },
  "widgets": {
   "application/vnd.jupyter.widget-state+json": {
    "16ddd300cd584b3281bcf56b9dd64d71": {
     "model_module": "@jupyter-widgets/controls",
     "model_name": "HBoxModel",
     "state": {
      "_dom_classes": [],
      "_model_module": "@jupyter-widgets/controls",
      "_model_module_version": "1.5.0",
      "_model_name": "HBoxModel",
      "_view_count": null,
      "_view_module": "@jupyter-widgets/controls",
      "_view_module_version": "1.5.0",
      "_view_name": "HBoxView",
      "box_style": "",
      "children": [
       "IPY_MODEL_3e2dbff63b1f4aafad54ea81c6bb695b",
       "IPY_MODEL_dbb762bc83c24c74b9384dd03e86c22b"
      ],
      "layout": "IPY_MODEL_e901e3ea147a490bb094ceab5397f7bd"
     }
    },
    "3e2dbff63b1f4aafad54ea81c6bb695b": {
     "model_module": "@jupyter-widgets/controls",
     "model_name": "FloatProgressModel",
     "state": {
      "_dom_classes": [],
      "_model_module": "@jupyter-widgets/controls",
      "_model_module_version": "1.5.0",
      "_model_name": "FloatProgressModel",
      "_view_count": null,
      "_view_module": "@jupyter-widgets/controls",
      "_view_module_version": "1.5.0",
      "_view_name": "ProgressView",
      "bar_style": "success",
      "description": "",
      "description_tooltip": null,
      "layout": "IPY_MODEL_e57ce9f6cac7428c82584f23228da5b3",
      "max": 55628,
      "min": 0,
      "orientation": "horizontal",
      "style": "IPY_MODEL_8ea4b5640c064c0bbbc8211b7ff1e297",
      "value": 55628
     }
    },
    "4d140892fda04caa86d38fd724a90c98": {
     "model_module": "@jupyter-widgets/base",
     "model_name": "LayoutModel",
     "state": {
      "_model_module": "@jupyter-widgets/base",
      "_model_module_version": "1.2.0",
      "_model_name": "LayoutModel",
      "_view_count": null,
      "_view_module": "@jupyter-widgets/base",
      "_view_module_version": "1.2.0",
      "_view_name": "LayoutView",
      "align_content": null,
      "align_items": null,
      "align_self": null,
      "border": null,
      "bottom": null,
      "display": null,
      "flex": null,
      "flex_flow": null,
      "grid_area": null,
      "grid_auto_columns": null,
      "grid_auto_flow": null,
      "grid_auto_rows": null,
      "grid_column": null,
      "grid_gap": null,
      "grid_row": null,
      "grid_template_areas": null,
      "grid_template_columns": null,
      "grid_template_rows": null,
      "height": null,
      "justify_content": null,
      "justify_items": null,
      "left": null,
      "margin": null,
      "max_height": null,
      "max_width": null,
      "min_height": null,
      "min_width": null,
      "object_fit": null,
      "object_position": null,
      "order": null,
      "overflow": null,
      "overflow_x": null,
      "overflow_y": null,
      "padding": null,
      "right": null,
      "top": null,
      "visibility": null,
      "width": null
     }
    },
    "8ea4b5640c064c0bbbc8211b7ff1e297": {
     "model_module": "@jupyter-widgets/controls",
     "model_name": "ProgressStyleModel",
     "state": {
      "_model_module": "@jupyter-widgets/controls",
      "_model_module_version": "1.5.0",
      "_model_name": "ProgressStyleModel",
      "_view_count": null,
      "_view_module": "@jupyter-widgets/base",
      "_view_module_version": "1.2.0",
      "_view_name": "StyleView",
      "bar_color": null,
      "description_width": "initial"
     }
    },
    "dbb762bc83c24c74b9384dd03e86c22b": {
     "model_module": "@jupyter-widgets/controls",
     "model_name": "HTMLModel",
     "state": {
      "_dom_classes": [],
      "_model_module": "@jupyter-widgets/controls",
      "_model_module_version": "1.5.0",
      "_model_name": "HTMLModel",
      "_view_count": null,
      "_view_module": "@jupyter-widgets/controls",
      "_view_module_version": "1.5.0",
      "_view_name": "HTMLView",
      "description": "",
      "description_tooltip": null,
      "layout": "IPY_MODEL_4d140892fda04caa86d38fd724a90c98",
      "placeholder": "​",
      "style": "IPY_MODEL_e959170738db4d63be1f13553cf1070b",
      "value": " 56320/? [00:01&lt;00:00, 55043.77it/s]"
     }
    },
    "e57ce9f6cac7428c82584f23228da5b3": {
     "model_module": "@jupyter-widgets/base",
     "model_name": "LayoutModel",
     "state": {
      "_model_module": "@jupyter-widgets/base",
      "_model_module_version": "1.2.0",
      "_model_name": "LayoutModel",
      "_view_count": null,
      "_view_module": "@jupyter-widgets/base",
      "_view_module_version": "1.2.0",
      "_view_name": "LayoutView",
      "align_content": null,
      "align_items": null,
      "align_self": null,
      "border": null,
      "bottom": null,
      "display": null,
      "flex": null,
      "flex_flow": null,
      "grid_area": null,
      "grid_auto_columns": null,
      "grid_auto_flow": null,
      "grid_auto_rows": null,
      "grid_column": null,
      "grid_gap": null,
      "grid_row": null,
      "grid_template_areas": null,
      "grid_template_columns": null,
      "grid_template_rows": null,
      "height": null,
      "justify_content": null,
      "justify_items": null,
      "left": null,
      "margin": null,
      "max_height": null,
      "max_width": null,
      "min_height": null,
      "min_width": null,
      "object_fit": null,
      "object_position": null,
      "order": null,
      "overflow": null,
      "overflow_x": null,
      "overflow_y": null,
      "padding": null,
      "right": null,
      "top": null,
      "visibility": null,
      "width": null
     }
    },
    "e901e3ea147a490bb094ceab5397f7bd": {
     "model_module": "@jupyter-widgets/base",
     "model_name": "LayoutModel",
     "state": {
      "_model_module": "@jupyter-widgets/base",
      "_model_module_version": "1.2.0",
      "_model_name": "LayoutModel",
      "_view_count": null,
      "_view_module": "@jupyter-widgets/base",
      "_view_module_version": "1.2.0",
      "_view_name": "LayoutView",
      "align_content": null,
      "align_items": null,
      "align_self": null,
      "border": null,
      "bottom": null,
      "display": null,
      "flex": null,
      "flex_flow": null,
      "grid_area": null,
      "grid_auto_columns": null,
      "grid_auto_flow": null,
      "grid_auto_rows": null,
      "grid_column": null,
      "grid_gap": null,
      "grid_row": null,
      "grid_template_areas": null,
      "grid_template_columns": null,
      "grid_template_rows": null,
      "height": null,
      "justify_content": null,
      "justify_items": null,
      "left": null,
      "margin": null,
      "max_height": null,
      "max_width": null,
      "min_height": null,
      "min_width": null,
      "object_fit": null,
      "object_position": null,
      "order": null,
      "overflow": null,
      "overflow_x": null,
      "overflow_y": null,
      "padding": null,
      "right": null,
      "top": null,
      "visibility": null,
      "width": null
     }
    },
    "e959170738db4d63be1f13553cf1070b": {
     "model_module": "@jupyter-widgets/controls",
     "model_name": "DescriptionStyleModel",
     "state": {
      "_model_module": "@jupyter-widgets/controls",
      "_model_module_version": "1.5.0",
      "_model_name": "DescriptionStyleModel",
      "_view_count": null,
      "_view_module": "@jupyter-widgets/base",
      "_view_module_version": "1.2.0",
      "_view_name": "StyleView",
      "description_width": ""
     }
    }
   }
  }
 },
 "nbformat": 4,
 "nbformat_minor": 0
}